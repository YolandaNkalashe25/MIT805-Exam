{
  "nbformat": 4,
  "nbformat_minor": 0,
  "metadata": {
    "colab": {
      "name": "MIT805 Exam.ipynb",
      "provenance": [],
      "collapsed_sections": [
        "qK0ihKbg4fu5",
        "Osg08ETVARLk",
        "ekaZaKcICYSz"
      ]
    },
    "kernelspec": {
      "name": "python3",
      "display_name": "Python 3"
    }
  },
  "cells": [
    {
      "cell_type": "markdown",
      "metadata": {
        "id": "Gr5ltcIuf9aT"
      },
      "source": [
        "Extracting the data. The data resides in differnrt data source based on the companies storage system."
      ]
    },
    {
      "cell_type": "markdown",
      "metadata": {
        "id": "y9HWxor3vvFH"
      },
      "source": [
        "# MIT805 Exam- u13193016: Yolanda Nkalashe"
      ]
    },
    {
      "cell_type": "markdown",
      "metadata": {
        "id": "xvsBxdD0wAM5"
      },
      "source": [
        "We are the Loan Lending Club Company. Our purpose is to provide a platform for individuals to take up personal loans. We Collect a varied amount of data when a customer is applying for credit and if the customer is approved we consistently collecting data to understand and keep our customer base. We will be showcasing our system of data collection, data analysis, data prediction such that we can make data driven decisions. "
      ]
    },
    {
      "cell_type": "markdown",
      "metadata": {
        "id": "k8oUPNNz3XzP"
      },
      "source": [
        "## 1A"
      ]
    },
    {
      "cell_type": "markdown",
      "metadata": {
        "id": "DwAZpPjyxDUi"
      },
      "source": [
        "### Data Analysis showcasing some of the benefits and drawbacks of our data dataset."
      ]
    },
    {
      "cell_type": "markdown",
      "metadata": {
        "id": "3mM9LBDoxbSv"
      },
      "source": [
        "Some of the drawbacks that we will be showcsing from our data is:\n",
        "\n",
        "Drawbacks:\n",
        "\n",
        "*   Our data is not real time so we cannont make real time decsions.\n",
        "*   Our data has a lot of attributes with missing values, making some of the data not useable.\n",
        "*  Given that the data is large, we need to store it in a distributed fashion.\n",
        "*  Categorical variables have a lot of categories which need to be cleaned.\n",
        "* When processing our data we seperate the date stamp, given that we remove the NAs we lose the veracity of the date stamp.\n",
        "* velocity: given that our data is in batch and extracted per quarter the velocity at which the data is coming through is not as we would like.\n",
        "\n",
        "Benefits:\n",
        "\n",
        "Our dataset meets the standards of the 3 Vs of big data:\n",
        "\n",
        "*   Volume: The data is around 1.9 gigs we looke at the past four years (2016-2020).\n",
        "*   Variety: the data consists of 150 diffeternt attributes with various datatype of category, date, int, float and string.\n",
        "*  The data is structured making it easier for analysis and transformation.\n",
        "* Customer data is verified by the lending club to ensure that the data produced is valid.\n",
        "\n",
        "The following above points can be seen in the below exploratory data analysis.\n",
        "\n",
        "\n",
        "\n",
        "\n"
      ]
    },
    {
      "cell_type": "markdown",
      "metadata": {
        "id": "wW_bS2i8xPMg"
      },
      "source": [
        "importing packages that we will require."
      ]
    },
    {
      "cell_type": "code",
      "metadata": {
        "id": "nscGtu34hWDU"
      },
      "source": [
        "import pandas as pd\n",
        "import numpy as np"
      ],
      "execution_count": null,
      "outputs": []
    },
    {
      "cell_type": "code",
      "metadata": {
        "colab": {
          "base_uri": "https://localhost:8080/"
        },
        "id": "n6uTovqbI_st",
        "outputId": "6617f397-99fa-4f06-c611-0b062e77075c"
      },
      "source": [
        "pip install pyspark"
      ],
      "execution_count": null,
      "outputs": [
        {
          "output_type": "stream",
          "text": [
            "Requirement already satisfied: pyspark in /usr/local/lib/python3.6/dist-packages (3.0.1)\n",
            "Requirement already satisfied: py4j==0.10.9 in /usr/local/lib/python3.6/dist-packages (from pyspark) (0.10.9)\n"
          ],
          "name": "stdout"
        }
      ]
    },
    {
      "cell_type": "markdown",
      "metadata": {
        "id": "55pirkYr2qfa"
      },
      "source": [
        "Given the volume of the data we importing each seperatly per quater as the data is stored quartely."
      ]
    },
    {
      "cell_type": "code",
      "metadata": {
        "colab": {
          "base_uri": "https://localhost:8080/"
        },
        "id": "Cjq16_LjfwBC",
        "outputId": "e0bc4a5a-0b1d-4708-a0ad-08b840c285fe"
      },
      "source": [
        "Q2_2016_df=pd.read_csv('/content/drive/MyDrive/805/Lending Club Data/Lending Loan Data/LoanStats_2016Q2.csv',sep=';',error_bad_lines=False)"
      ],
      "execution_count": null,
      "outputs": [
        {
          "output_type": "stream",
          "text": [
            "/usr/local/lib/python3.6/dist-packages/IPython/core/interactiveshell.py:2718: DtypeWarning: Columns (0,19) have mixed types.Specify dtype option on import or set low_memory=False.\n",
            "  interactivity=interactivity, compiler=compiler, result=result)\n"
          ],
          "name": "stderr"
        }
      ]
    },
    {
      "cell_type": "code",
      "metadata": {
        "colab": {
          "base_uri": "https://localhost:8080/"
        },
        "id": "9R9wWZQuxMg-",
        "outputId": "4b1ec5a1-96b1-4360-e0cd-1ce500f425d6"
      },
      "source": [
        "Q3_2016_df=pd.read_csv('/content/drive/MyDrive/805/Lending Club Data/Lending Loan Data/LoanStats_2016Q3.csv',sep=';',error_bad_lines=False)"
      ],
      "execution_count": null,
      "outputs": [
        {
          "output_type": "stream",
          "text": [
            "/usr/local/lib/python3.6/dist-packages/IPython/core/interactiveshell.py:2718: DtypeWarning: Columns (0,19,55) have mixed types.Specify dtype option on import or set low_memory=False.\n",
            "  interactivity=interactivity, compiler=compiler, result=result)\n"
          ],
          "name": "stderr"
        }
      ]
    },
    {
      "cell_type": "code",
      "metadata": {
        "colab": {
          "base_uri": "https://localhost:8080/"
        },
        "id": "zwAnPZ0AxZEb",
        "outputId": "bf3a0bff-e8f7-4798-d289-7a19e65c5db5"
      },
      "source": [
        "Q4_2016_df=pd.read_csv('/content/drive/MyDrive/805/Lending Club Data/Lending Loan Data/LoanStats_2016Q4.csv',sep=';',error_bad_lines=False)"
      ],
      "execution_count": null,
      "outputs": [
        {
          "output_type": "stream",
          "text": [
            "/usr/local/lib/python3.6/dist-packages/IPython/core/interactiveshell.py:2718: DtypeWarning: Columns (0,19) have mixed types.Specify dtype option on import or set low_memory=False.\n",
            "  interactivity=interactivity, compiler=compiler, result=result)\n"
          ],
          "name": "stderr"
        }
      ]
    },
    {
      "cell_type": "code",
      "metadata": {
        "colab": {
          "base_uri": "https://localhost:8080/"
        },
        "id": "Ls9XAOXMxm6T",
        "outputId": "0764c89e-65fa-4fc7-df64-4a314a216c70"
      },
      "source": [
        "Q1_2017_df=pd.read_csv('/content/drive/MyDrive/805/Lending Club Data/Lending Loan Data/LoanStats_2017Q1.csv',sep=';',error_bad_lines=False)"
      ],
      "execution_count": null,
      "outputs": [
        {
          "output_type": "stream",
          "text": [
            "/usr/local/lib/python3.6/dist-packages/IPython/core/interactiveshell.py:2718: DtypeWarning: Columns (0,112) have mixed types.Specify dtype option on import or set low_memory=False.\n",
            "  interactivity=interactivity, compiler=compiler, result=result)\n"
          ],
          "name": "stderr"
        }
      ]
    },
    {
      "cell_type": "code",
      "metadata": {
        "colab": {
          "base_uri": "https://localhost:8080/"
        },
        "id": "Eh1mMI82xxli",
        "outputId": "45087945-342b-473a-8810-26b47fb866ba"
      },
      "source": [
        "Q2_2017_df=pd.read_csv('/content/drive/MyDrive/805/Lending Club Data/Lending Loan Data/LoanStats_2017Q2.csv',sep=';',error_bad_lines=False)"
      ],
      "execution_count": null,
      "outputs": [
        {
          "output_type": "stream",
          "text": [
            "/usr/local/lib/python3.6/dist-packages/IPython/core/interactiveshell.py:2718: DtypeWarning: Columns (0) have mixed types.Specify dtype option on import or set low_memory=False.\n",
            "  interactivity=interactivity, compiler=compiler, result=result)\n"
          ],
          "name": "stderr"
        }
      ]
    },
    {
      "cell_type": "code",
      "metadata": {
        "colab": {
          "base_uri": "https://localhost:8080/"
        },
        "id": "5vIPhJ4fx6by",
        "outputId": "b087e260-11a6-4a2e-ea20-2e5d0646b4aa"
      },
      "source": [
        "Q3_2017_df=pd.read_csv('/content/drive/MyDrive/805/Lending Club Data/Lending Loan Data/LoanStats_2017Q3.csv',sep=';',error_bad_lines=False)"
      ],
      "execution_count": null,
      "outputs": [
        {
          "output_type": "stream",
          "text": [
            "/usr/local/lib/python3.6/dist-packages/IPython/core/interactiveshell.py:2718: DtypeWarning: Columns (0) have mixed types.Specify dtype option on import or set low_memory=False.\n",
            "  interactivity=interactivity, compiler=compiler, result=result)\n"
          ],
          "name": "stderr"
        }
      ]
    },
    {
      "cell_type": "code",
      "metadata": {
        "colab": {
          "base_uri": "https://localhost:8080/"
        },
        "id": "rKxx2fuCyFT8",
        "outputId": "6a2995d9-29dd-4340-8d7a-c94d86b06555"
      },
      "source": [
        "Q4_2017_df=pd.read_csv('/content/drive/MyDrive/805/Lending Club Data/Lending Loan Data/LoanStats_2017Q4.csv',sep=';',error_bad_lines=False)"
      ],
      "execution_count": null,
      "outputs": [
        {
          "output_type": "stream",
          "text": [
            "/usr/local/lib/python3.6/dist-packages/IPython/core/interactiveshell.py:2718: DtypeWarning: Columns (0) have mixed types.Specify dtype option on import or set low_memory=False.\n",
            "  interactivity=interactivity, compiler=compiler, result=result)\n"
          ],
          "name": "stderr"
        }
      ]
    },
    {
      "cell_type": "code",
      "metadata": {
        "colab": {
          "base_uri": "https://localhost:8080/"
        },
        "id": "5ddExGsfySdw",
        "outputId": "f22d67f7-d911-4142-e9fe-37af598adb5c"
      },
      "source": [
        "Q1_2018_df=pd.read_csv('/content/drive/MyDrive/805/Lending Club Data/Lending Loan Data/LoanStats_2018Q1.csv',sep=';',error_bad_lines=False)"
      ],
      "execution_count": null,
      "outputs": [
        {
          "output_type": "stream",
          "text": [
            "/usr/local/lib/python3.6/dist-packages/IPython/core/interactiveshell.py:2718: DtypeWarning: Columns (0) have mixed types.Specify dtype option on import or set low_memory=False.\n",
            "  interactivity=interactivity, compiler=compiler, result=result)\n"
          ],
          "name": "stderr"
        }
      ]
    },
    {
      "cell_type": "code",
      "metadata": {
        "colab": {
          "base_uri": "https://localhost:8080/"
        },
        "id": "pzDBZ1DByf2j",
        "outputId": "44bb4397-fff7-4e1f-be96-5cca3b1a95b9"
      },
      "source": [
        "Q2_2018_df=pd.read_csv('/content/drive/MyDrive/805/Lending Club Data/Lending Loan Data/LoanStats_2018Q2.csv',sep=';',error_bad_lines=False)"
      ],
      "execution_count": null,
      "outputs": [
        {
          "output_type": "stream",
          "text": [
            "/usr/local/lib/python3.6/dist-packages/IPython/core/interactiveshell.py:2718: DtypeWarning: Columns (0) have mixed types.Specify dtype option on import or set low_memory=False.\n",
            "  interactivity=interactivity, compiler=compiler, result=result)\n"
          ],
          "name": "stderr"
        }
      ]
    },
    {
      "cell_type": "code",
      "metadata": {
        "colab": {
          "base_uri": "https://localhost:8080/"
        },
        "id": "F2yD5kZuyvgs",
        "outputId": "dc569d44-6f0c-4610-8855-683083bc34d8"
      },
      "source": [
        "Q3_2018_df=pd.read_csv('/content/drive/MyDrive/805/Lending Club Data/Lending Loan Data/LoanStats_2018Q3.csv',sep=';',error_bad_lines=False)"
      ],
      "execution_count": null,
      "outputs": [
        {
          "output_type": "stream",
          "text": [
            "/usr/local/lib/python3.6/dist-packages/IPython/core/interactiveshell.py:2718: DtypeWarning: Columns (0) have mixed types.Specify dtype option on import or set low_memory=False.\n",
            "  interactivity=interactivity, compiler=compiler, result=result)\n"
          ],
          "name": "stderr"
        }
      ]
    },
    {
      "cell_type": "code",
      "metadata": {
        "colab": {
          "base_uri": "https://localhost:8080/"
        },
        "id": "gQyPmKh7zDO1",
        "outputId": "a36ec95f-b461-4dbc-8224-32c5561c35e5"
      },
      "source": [
        "Q4_2018_df=pd.read_csv('/content/drive/MyDrive/805/Lending Club Data/Lending Loan Data/LoanStats_2018Q4.csv',sep=';',error_bad_lines=False)"
      ],
      "execution_count": null,
      "outputs": [
        {
          "output_type": "stream",
          "text": [
            "/usr/local/lib/python3.6/dist-packages/IPython/core/interactiveshell.py:2718: DtypeWarning: Columns (0) have mixed types.Specify dtype option on import or set low_memory=False.\n",
            "  interactivity=interactivity, compiler=compiler, result=result)\n"
          ],
          "name": "stderr"
        }
      ]
    },
    {
      "cell_type": "code",
      "metadata": {
        "colab": {
          "base_uri": "https://localhost:8080/"
        },
        "id": "Hw3Z7jlezNYx",
        "outputId": "4848d1ca-f396-44ca-9fef-850f25b7291a"
      },
      "source": [
        "Q1_2019_df=pd.read_csv('/content/drive/MyDrive/805/Lending Club Data/Lending Loan Data/LoanStats_securev1_2019Q1.csv',sep=';',error_bad_lines=False)"
      ],
      "execution_count": null,
      "outputs": [
        {
          "output_type": "stream",
          "text": [
            "/usr/local/lib/python3.6/dist-packages/IPython/core/interactiveshell.py:2718: DtypeWarning: Columns (0) have mixed types.Specify dtype option on import or set low_memory=False.\n",
            "  interactivity=interactivity, compiler=compiler, result=result)\n"
          ],
          "name": "stderr"
        }
      ]
    },
    {
      "cell_type": "code",
      "metadata": {
        "colab": {
          "base_uri": "https://localhost:8080/"
        },
        "id": "cfOhWuDDzczO",
        "outputId": "a9a0153d-9a36-447e-ed35-1f40455f1482"
      },
      "source": [
        "Q3_2019_df=pd.read_csv('/content/drive/MyDrive/805/Lending Club Data/Lending Loan Data/LoanStats_securev1_2019Q3.csv',sep=';',error_bad_lines=False)"
      ],
      "execution_count": null,
      "outputs": [
        {
          "output_type": "stream",
          "text": [
            "/usr/local/lib/python3.6/dist-packages/IPython/core/interactiveshell.py:2718: DtypeWarning: Columns (0,144,145,146) have mixed types.Specify dtype option on import or set low_memory=False.\n",
            "  interactivity=interactivity, compiler=compiler, result=result)\n"
          ],
          "name": "stderr"
        }
      ]
    },
    {
      "cell_type": "code",
      "metadata": {
        "colab": {
          "base_uri": "https://localhost:8080/"
        },
        "id": "ttLsxXKIzpA6",
        "outputId": "cacd0d8b-129f-4dde-de3e-2ad47f917766"
      },
      "source": [
        "Q4_2019_df=pd.read_csv('/content/drive/MyDrive/805/Lending Club Data/Lending Loan Data/LoanStats_securev1_2019Q4.csv',sep=';',error_bad_lines=False)"
      ],
      "execution_count": null,
      "outputs": [
        {
          "output_type": "stream",
          "text": [
            "/usr/local/lib/python3.6/dist-packages/IPython/core/interactiveshell.py:2718: DtypeWarning: Columns (0,144,145,146) have mixed types.Specify dtype option on import or set low_memory=False.\n",
            "  interactivity=interactivity, compiler=compiler, result=result)\n"
          ],
          "name": "stderr"
        }
      ]
    },
    {
      "cell_type": "code",
      "metadata": {
        "colab": {
          "base_uri": "https://localhost:8080/"
        },
        "id": "g7TI84_gz6DY",
        "outputId": "16726e76-925a-4763-d726-570fb48b7a94"
      },
      "source": [
        "Q1_2020_df=pd.read_csv('/content/drive/MyDrive/805/Lending Club Data/Lending Loan Data/LoanStats_securev1_2020Q1.csv',sep=';',error_bad_lines=False)"
      ],
      "execution_count": null,
      "outputs": [
        {
          "output_type": "stream",
          "text": [
            "/usr/local/lib/python3.6/dist-packages/IPython/core/interactiveshell.py:2718: DtypeWarning: Columns (0,144,145,146) have mixed types.Specify dtype option on import or set low_memory=False.\n",
            "  interactivity=interactivity, compiler=compiler, result=result)\n"
          ],
          "name": "stderr"
        }
      ]
    },
    {
      "cell_type": "markdown",
      "metadata": {
        "id": "hzjpp0t22916"
      },
      "source": [
        "Combining our data into one df for easier analysis"
      ]
    },
    {
      "cell_type": "code",
      "metadata": {
        "id": "56wWveZF0xNT"
      },
      "source": [
        "Loan_df=pd.concat([Q2_2016_df,Q3_2016_df,Q4_2016_df,Q1_2017_df,Q2_2017_df,Q3_2017_df,Q4_2017_df,Q1_2018_df,Q2_2018_df,Q3_2018_df,Q4_2018_df,Q1_2019_df,Q3_2019_df,Q4_2019_df,Q1_2020_df])"
      ],
      "execution_count": null,
      "outputs": []
    },
    {
      "cell_type": "markdown",
      "metadata": {
        "id": "A82e1-lG3JmX"
      },
      "source": [
        "A sample of the first 5 rows of our data. as noted the data has 150 columns with a lot of variety with respect to the data types. From data type, int, string, cateforical and float."
      ]
    },
    {
      "cell_type": "code",
      "metadata": {
        "colab": {
          "base_uri": "https://localhost:8080/",
          "height": 355
        },
        "id": "tKT1t35-2Nbn",
        "outputId": "a6ce6965-d836-4d38-efce-1f21335a1325"
      },
      "source": [
        "Loan_df.head()"
      ],
      "execution_count": null,
      "outputs": [
        {
          "output_type": "execute_result",
          "data": {
            "text/html": [
              "<div>\n",
              "<style scoped>\n",
              "    .dataframe tbody tr th:only-of-type {\n",
              "        vertical-align: middle;\n",
              "    }\n",
              "\n",
              "    .dataframe tbody tr th {\n",
              "        vertical-align: top;\n",
              "    }\n",
              "\n",
              "    .dataframe thead th {\n",
              "        text-align: right;\n",
              "    }\n",
              "</style>\n",
              "<table border=\"1\" class=\"dataframe\">\n",
              "  <thead>\n",
              "    <tr style=\"text-align: right;\">\n",
              "      <th></th>\n",
              "      <th>id</th>\n",
              "      <th>member_id</th>\n",
              "      <th>loan_amnt</th>\n",
              "      <th>funded_amnt</th>\n",
              "      <th>funded_amnt_inv</th>\n",
              "      <th>term</th>\n",
              "      <th>int_rate</th>\n",
              "      <th>installment</th>\n",
              "      <th>grade</th>\n",
              "      <th>sub_grade</th>\n",
              "      <th>emp_title</th>\n",
              "      <th>emp_length</th>\n",
              "      <th>home_ownership</th>\n",
              "      <th>annual_inc</th>\n",
              "      <th>verification_status</th>\n",
              "      <th>issue_d</th>\n",
              "      <th>loan_status</th>\n",
              "      <th>pymnt_plan</th>\n",
              "      <th>url</th>\n",
              "      <th>desc</th>\n",
              "      <th>purpose</th>\n",
              "      <th>title</th>\n",
              "      <th>zip_code</th>\n",
              "      <th>addr_state</th>\n",
              "      <th>dti</th>\n",
              "      <th>delinq_2yrs</th>\n",
              "      <th>earliest_cr_line</th>\n",
              "      <th>inq_last_6mths</th>\n",
              "      <th>mths_since_last_delinq</th>\n",
              "      <th>mths_since_last_record</th>\n",
              "      <th>open_acc</th>\n",
              "      <th>pub_rec</th>\n",
              "      <th>revol_bal</th>\n",
              "      <th>revol_util</th>\n",
              "      <th>total_acc</th>\n",
              "      <th>initial_list_status</th>\n",
              "      <th>out_prncp</th>\n",
              "      <th>out_prncp_inv</th>\n",
              "      <th>total_pymnt</th>\n",
              "      <th>total_pymnt_inv</th>\n",
              "      <th>...</th>\n",
              "      <th>total_il_high_credit_limit</th>\n",
              "      <th>revol_bal_joint</th>\n",
              "      <th>sec_app_earliest_cr_line</th>\n",
              "      <th>sec_app_inq_last_6mths</th>\n",
              "      <th>sec_app_mort_acc</th>\n",
              "      <th>sec_app_open_acc</th>\n",
              "      <th>sec_app_revol_util</th>\n",
              "      <th>sec_app_open_act_il</th>\n",
              "      <th>sec_app_num_rev_accts</th>\n",
              "      <th>sec_app_chargeoff_within_12_mths</th>\n",
              "      <th>sec_app_collections_12_mths_ex_med</th>\n",
              "      <th>sec_app_mths_since_last_major_derog</th>\n",
              "      <th>hardship_flag</th>\n",
              "      <th>hardship_type</th>\n",
              "      <th>hardship_reason</th>\n",
              "      <th>hardship_status</th>\n",
              "      <th>deferral_term</th>\n",
              "      <th>hardship_amount</th>\n",
              "      <th>hardship_start_date</th>\n",
              "      <th>hardship_end_date</th>\n",
              "      <th>payment_plan_start_date</th>\n",
              "      <th>hardship_length</th>\n",
              "      <th>hardship_dpd</th>\n",
              "      <th>hardship_loan_status</th>\n",
              "      <th>orig_projected_additional_accrued_interest</th>\n",
              "      <th>hardship_payoff_balance_amount</th>\n",
              "      <th>hardship_last_payment_amount</th>\n",
              "      <th>debt_settlement_flag</th>\n",
              "      <th>debt_settlement_flag_date</th>\n",
              "      <th>settlement_status</th>\n",
              "      <th>settlement_date</th>\n",
              "      <th>settlement_amount</th>\n",
              "      <th>settlement_percentage</th>\n",
              "      <th>settlement_term</th>\n",
              "      <th>fico_range_low</th>\n",
              "      <th>fico_range_high</th>\n",
              "      <th>last_fico_range_high</th>\n",
              "      <th>last_fico_range_low</th>\n",
              "      <th>sec_app_fico_range_low</th>\n",
              "      <th>sec_app_fico_range_high</th>\n",
              "    </tr>\n",
              "  </thead>\n",
              "  <tbody>\n",
              "    <tr>\n",
              "      <th>0</th>\n",
              "      <td>NaN</td>\n",
              "      <td>NaN</td>\n",
              "      <td>10000.0</td>\n",
              "      <td>10000.0</td>\n",
              "      <td>10000.0</td>\n",
              "      <td>36 months</td>\n",
              "      <td>6.99%</td>\n",
              "      <td>308.73</td>\n",
              "      <td>A</td>\n",
              "      <td>A2</td>\n",
              "      <td>Construction Superintendent</td>\n",
              "      <td>2 years</td>\n",
              "      <td>RENT</td>\n",
              "      <td>135000.0</td>\n",
              "      <td>Verified</td>\n",
              "      <td>Jun-16</td>\n",
              "      <td>Fully Paid</td>\n",
              "      <td>n</td>\n",
              "      <td>NaN</td>\n",
              "      <td>NaN</td>\n",
              "      <td>credit_card</td>\n",
              "      <td>Credit card refinancing</td>\n",
              "      <td>112xx</td>\n",
              "      <td>NY</td>\n",
              "      <td>7.61</td>\n",
              "      <td>0.0</td>\n",
              "      <td>Nov-06</td>\n",
              "      <td>2.0</td>\n",
              "      <td>NaN</td>\n",
              "      <td>NaN</td>\n",
              "      <td>7.0</td>\n",
              "      <td>0.0</td>\n",
              "      <td>11943.0</td>\n",
              "      <td>30.1%</td>\n",
              "      <td>13.0</td>\n",
              "      <td>f</td>\n",
              "      <td>0.0</td>\n",
              "      <td>0.0</td>\n",
              "      <td>11104.380326</td>\n",
              "      <td>11104.38</td>\n",
              "      <td>...</td>\n",
              "      <td>37246.0</td>\n",
              "      <td>NaN</td>\n",
              "      <td>NaN</td>\n",
              "      <td>NaN</td>\n",
              "      <td>NaN</td>\n",
              "      <td>NaN</td>\n",
              "      <td>NaN</td>\n",
              "      <td>NaN</td>\n",
              "      <td>NaN</td>\n",
              "      <td>NaN</td>\n",
              "      <td>NaN</td>\n",
              "      <td>NaN</td>\n",
              "      <td>N</td>\n",
              "      <td>NaN</td>\n",
              "      <td>NaN</td>\n",
              "      <td>NaN</td>\n",
              "      <td>NaN</td>\n",
              "      <td>NaN</td>\n",
              "      <td>NaN</td>\n",
              "      <td>NaN</td>\n",
              "      <td>NaN</td>\n",
              "      <td>NaN</td>\n",
              "      <td>NaN</td>\n",
              "      <td>NaN</td>\n",
              "      <td>NaN</td>\n",
              "      <td>NaN</td>\n",
              "      <td>NaN</td>\n",
              "      <td>N</td>\n",
              "      <td>NaN</td>\n",
              "      <td>NaN</td>\n",
              "      <td>NaN</td>\n",
              "      <td>NaN</td>\n",
              "      <td>NaN</td>\n",
              "      <td>NaN</td>\n",
              "      <td>NaN</td>\n",
              "      <td>NaN</td>\n",
              "      <td>NaN</td>\n",
              "      <td>NaN</td>\n",
              "      <td>NaN</td>\n",
              "      <td>NaN</td>\n",
              "    </tr>\n",
              "    <tr>\n",
              "      <th>1</th>\n",
              "      <td>NaN</td>\n",
              "      <td>NaN</td>\n",
              "      <td>9600.0</td>\n",
              "      <td>9600.0</td>\n",
              "      <td>9600.0</td>\n",
              "      <td>36 months</td>\n",
              "      <td>15.59%</td>\n",
              "      <td>335.57</td>\n",
              "      <td>C</td>\n",
              "      <td>C5</td>\n",
              "      <td>Machinist</td>\n",
              "      <td>5 years</td>\n",
              "      <td>RENT</td>\n",
              "      <td>50000.0</td>\n",
              "      <td>Verified</td>\n",
              "      <td>Jun-16</td>\n",
              "      <td>Fully Paid</td>\n",
              "      <td>n</td>\n",
              "      <td>NaN</td>\n",
              "      <td>NaN</td>\n",
              "      <td>debt_consolidation</td>\n",
              "      <td>Debt consolidation</td>\n",
              "      <td>444xx</td>\n",
              "      <td>OH</td>\n",
              "      <td>24.03</td>\n",
              "      <td>0.0</td>\n",
              "      <td>Dec-03</td>\n",
              "      <td>0.0</td>\n",
              "      <td>NaN</td>\n",
              "      <td>66.0</td>\n",
              "      <td>11.0</td>\n",
              "      <td>4.0</td>\n",
              "      <td>9804.0</td>\n",
              "      <td>33.8%</td>\n",
              "      <td>23.0</td>\n",
              "      <td>f</td>\n",
              "      <td>0.0</td>\n",
              "      <td>0.0</td>\n",
              "      <td>11475.059012</td>\n",
              "      <td>11475.06</td>\n",
              "      <td>...</td>\n",
              "      <td>27024.0</td>\n",
              "      <td>NaN</td>\n",
              "      <td>NaN</td>\n",
              "      <td>NaN</td>\n",
              "      <td>NaN</td>\n",
              "      <td>NaN</td>\n",
              "      <td>NaN</td>\n",
              "      <td>NaN</td>\n",
              "      <td>NaN</td>\n",
              "      <td>NaN</td>\n",
              "      <td>NaN</td>\n",
              "      <td>NaN</td>\n",
              "      <td>N</td>\n",
              "      <td>NaN</td>\n",
              "      <td>NaN</td>\n",
              "      <td>NaN</td>\n",
              "      <td>NaN</td>\n",
              "      <td>NaN</td>\n",
              "      <td>NaN</td>\n",
              "      <td>NaN</td>\n",
              "      <td>NaN</td>\n",
              "      <td>NaN</td>\n",
              "      <td>NaN</td>\n",
              "      <td>NaN</td>\n",
              "      <td>NaN</td>\n",
              "      <td>NaN</td>\n",
              "      <td>NaN</td>\n",
              "      <td>N</td>\n",
              "      <td>NaN</td>\n",
              "      <td>NaN</td>\n",
              "      <td>NaN</td>\n",
              "      <td>NaN</td>\n",
              "      <td>NaN</td>\n",
              "      <td>NaN</td>\n",
              "      <td>NaN</td>\n",
              "      <td>NaN</td>\n",
              "      <td>NaN</td>\n",
              "      <td>NaN</td>\n",
              "      <td>NaN</td>\n",
              "      <td>NaN</td>\n",
              "    </tr>\n",
              "    <tr>\n",
              "      <th>2</th>\n",
              "      <td>NaN</td>\n",
              "      <td>NaN</td>\n",
              "      <td>3600.0</td>\n",
              "      <td>3600.0</td>\n",
              "      <td>3600.0</td>\n",
              "      <td>36 months</td>\n",
              "      <td>13.99%</td>\n",
              "      <td>123.03</td>\n",
              "      <td>C</td>\n",
              "      <td>C3</td>\n",
              "      <td>Correspondence and Information Specialis</td>\n",
              "      <td>10+ years</td>\n",
              "      <td>MORTGAGE</td>\n",
              "      <td>35000.0</td>\n",
              "      <td>Verified</td>\n",
              "      <td>Jun-16</td>\n",
              "      <td>Fully Paid</td>\n",
              "      <td>n</td>\n",
              "      <td>NaN</td>\n",
              "      <td>NaN</td>\n",
              "      <td>debt_consolidation</td>\n",
              "      <td>Debt consolidation</td>\n",
              "      <td>652xx</td>\n",
              "      <td>MO</td>\n",
              "      <td>25.38</td>\n",
              "      <td>0.0</td>\n",
              "      <td>Aug-00</td>\n",
              "      <td>0.0</td>\n",
              "      <td>64.0</td>\n",
              "      <td>NaN</td>\n",
              "      <td>13.0</td>\n",
              "      <td>0.0</td>\n",
              "      <td>10980.0</td>\n",
              "      <td>63.1%</td>\n",
              "      <td>29.0</td>\n",
              "      <td>w</td>\n",
              "      <td>0.0</td>\n",
              "      <td>0.0</td>\n",
              "      <td>4420.122545</td>\n",
              "      <td>4420.12</td>\n",
              "      <td>...</td>\n",
              "      <td>63416.0</td>\n",
              "      <td>NaN</td>\n",
              "      <td>NaN</td>\n",
              "      <td>NaN</td>\n",
              "      <td>NaN</td>\n",
              "      <td>NaN</td>\n",
              "      <td>NaN</td>\n",
              "      <td>NaN</td>\n",
              "      <td>NaN</td>\n",
              "      <td>NaN</td>\n",
              "      <td>NaN</td>\n",
              "      <td>NaN</td>\n",
              "      <td>N</td>\n",
              "      <td>NaN</td>\n",
              "      <td>NaN</td>\n",
              "      <td>NaN</td>\n",
              "      <td>NaN</td>\n",
              "      <td>NaN</td>\n",
              "      <td>NaN</td>\n",
              "      <td>NaN</td>\n",
              "      <td>NaN</td>\n",
              "      <td>NaN</td>\n",
              "      <td>NaN</td>\n",
              "      <td>NaN</td>\n",
              "      <td>NaN</td>\n",
              "      <td>NaN</td>\n",
              "      <td>NaN</td>\n",
              "      <td>N</td>\n",
              "      <td>NaN</td>\n",
              "      <td>NaN</td>\n",
              "      <td>NaN</td>\n",
              "      <td>NaN</td>\n",
              "      <td>NaN</td>\n",
              "      <td>NaN</td>\n",
              "      <td>NaN</td>\n",
              "      <td>NaN</td>\n",
              "      <td>NaN</td>\n",
              "      <td>NaN</td>\n",
              "      <td>NaN</td>\n",
              "      <td>NaN</td>\n",
              "    </tr>\n",
              "    <tr>\n",
              "      <th>3</th>\n",
              "      <td>NaN</td>\n",
              "      <td>NaN</td>\n",
              "      <td>10000.0</td>\n",
              "      <td>10000.0</td>\n",
              "      <td>10000.0</td>\n",
              "      <td>60 months</td>\n",
              "      <td>13.49%</td>\n",
              "      <td>230.05</td>\n",
              "      <td>C</td>\n",
              "      <td>C2</td>\n",
              "      <td>Customer Service</td>\n",
              "      <td>3 years</td>\n",
              "      <td>RENT</td>\n",
              "      <td>32000.0</td>\n",
              "      <td>Not Verified</td>\n",
              "      <td>Jun-16</td>\n",
              "      <td>Fully Paid</td>\n",
              "      <td>n</td>\n",
              "      <td>NaN</td>\n",
              "      <td>NaN</td>\n",
              "      <td>debt_consolidation</td>\n",
              "      <td>Debt consolidation</td>\n",
              "      <td>447xx</td>\n",
              "      <td>OH</td>\n",
              "      <td>13.05</td>\n",
              "      <td>0.0</td>\n",
              "      <td>Apr-99</td>\n",
              "      <td>1.0</td>\n",
              "      <td>NaN</td>\n",
              "      <td>NaN</td>\n",
              "      <td>5.0</td>\n",
              "      <td>0.0</td>\n",
              "      <td>16525.0</td>\n",
              "      <td>47.3%</td>\n",
              "      <td>10.0</td>\n",
              "      <td>w</td>\n",
              "      <td>0.0</td>\n",
              "      <td>0.0</td>\n",
              "      <td>10356.270252</td>\n",
              "      <td>10356.27</td>\n",
              "      <td>...</td>\n",
              "      <td>0.0</td>\n",
              "      <td>NaN</td>\n",
              "      <td>NaN</td>\n",
              "      <td>NaN</td>\n",
              "      <td>NaN</td>\n",
              "      <td>NaN</td>\n",
              "      <td>NaN</td>\n",
              "      <td>NaN</td>\n",
              "      <td>NaN</td>\n",
              "      <td>NaN</td>\n",
              "      <td>NaN</td>\n",
              "      <td>NaN</td>\n",
              "      <td>N</td>\n",
              "      <td>NaN</td>\n",
              "      <td>NaN</td>\n",
              "      <td>NaN</td>\n",
              "      <td>NaN</td>\n",
              "      <td>NaN</td>\n",
              "      <td>NaN</td>\n",
              "      <td>NaN</td>\n",
              "      <td>NaN</td>\n",
              "      <td>NaN</td>\n",
              "      <td>NaN</td>\n",
              "      <td>NaN</td>\n",
              "      <td>NaN</td>\n",
              "      <td>NaN</td>\n",
              "      <td>NaN</td>\n",
              "      <td>N</td>\n",
              "      <td>NaN</td>\n",
              "      <td>NaN</td>\n",
              "      <td>NaN</td>\n",
              "      <td>NaN</td>\n",
              "      <td>NaN</td>\n",
              "      <td>NaN</td>\n",
              "      <td>NaN</td>\n",
              "      <td>NaN</td>\n",
              "      <td>NaN</td>\n",
              "      <td>NaN</td>\n",
              "      <td>NaN</td>\n",
              "      <td>NaN</td>\n",
              "    </tr>\n",
              "    <tr>\n",
              "      <th>4</th>\n",
              "      <td>NaN</td>\n",
              "      <td>NaN</td>\n",
              "      <td>4900.0</td>\n",
              "      <td>4900.0</td>\n",
              "      <td>4900.0</td>\n",
              "      <td>36 months</td>\n",
              "      <td>10.99%</td>\n",
              "      <td>160.40</td>\n",
              "      <td>B</td>\n",
              "      <td>B4</td>\n",
              "      <td>Campaign Manager</td>\n",
              "      <td>&lt; 1 year</td>\n",
              "      <td>MORTGAGE</td>\n",
              "      <td>120000.0</td>\n",
              "      <td>Verified</td>\n",
              "      <td>Jun-16</td>\n",
              "      <td>Fully Paid</td>\n",
              "      <td>n</td>\n",
              "      <td>NaN</td>\n",
              "      <td>NaN</td>\n",
              "      <td>home_improvement</td>\n",
              "      <td>Home improvement</td>\n",
              "      <td>770xx</td>\n",
              "      <td>TX</td>\n",
              "      <td>6.07</td>\n",
              "      <td>0.0</td>\n",
              "      <td>Mar-03</td>\n",
              "      <td>0.0</td>\n",
              "      <td>49.0</td>\n",
              "      <td>NaN</td>\n",
              "      <td>5.0</td>\n",
              "      <td>0.0</td>\n",
              "      <td>7244.0</td>\n",
              "      <td>80.5%</td>\n",
              "      <td>8.0</td>\n",
              "      <td>f</td>\n",
              "      <td>0.0</td>\n",
              "      <td>0.0</td>\n",
              "      <td>5766.771977</td>\n",
              "      <td>5766.77</td>\n",
              "      <td>...</td>\n",
              "      <td>31515.0</td>\n",
              "      <td>NaN</td>\n",
              "      <td>NaN</td>\n",
              "      <td>NaN</td>\n",
              "      <td>NaN</td>\n",
              "      <td>NaN</td>\n",
              "      <td>NaN</td>\n",
              "      <td>NaN</td>\n",
              "      <td>NaN</td>\n",
              "      <td>NaN</td>\n",
              "      <td>NaN</td>\n",
              "      <td>NaN</td>\n",
              "      <td>N</td>\n",
              "      <td>NaN</td>\n",
              "      <td>NaN</td>\n",
              "      <td>NaN</td>\n",
              "      <td>NaN</td>\n",
              "      <td>NaN</td>\n",
              "      <td>NaN</td>\n",
              "      <td>NaN</td>\n",
              "      <td>NaN</td>\n",
              "      <td>NaN</td>\n",
              "      <td>NaN</td>\n",
              "      <td>NaN</td>\n",
              "      <td>NaN</td>\n",
              "      <td>NaN</td>\n",
              "      <td>NaN</td>\n",
              "      <td>N</td>\n",
              "      <td>NaN</td>\n",
              "      <td>NaN</td>\n",
              "      <td>NaN</td>\n",
              "      <td>NaN</td>\n",
              "      <td>NaN</td>\n",
              "      <td>NaN</td>\n",
              "      <td>NaN</td>\n",
              "      <td>NaN</td>\n",
              "      <td>NaN</td>\n",
              "      <td>NaN</td>\n",
              "      <td>NaN</td>\n",
              "      <td>NaN</td>\n",
              "    </tr>\n",
              "  </tbody>\n",
              "</table>\n",
              "<p>5 rows × 150 columns</p>\n",
              "</div>"
            ],
            "text/plain": [
              "    id  member_id  ...  sec_app_fico_range_low  sec_app_fico_range_high\n",
              "0  NaN        NaN  ...                     NaN                      NaN\n",
              "1  NaN        NaN  ...                     NaN                      NaN\n",
              "2  NaN        NaN  ...                     NaN                      NaN\n",
              "3  NaN        NaN  ...                     NaN                      NaN\n",
              "4  NaN        NaN  ...                     NaN                      NaN\n",
              "\n",
              "[5 rows x 150 columns]"
            ]
          },
          "metadata": {
            "tags": []
          },
          "execution_count": 48
        }
      ]
    },
    {
      "cell_type": "markdown",
      "metadata": {
        "id": "L4QSinSO3qdS"
      },
      "source": [
        "Further we note that our data has volume as describe. around 1.9GB."
      ]
    },
    {
      "cell_type": "code",
      "metadata": {
        "colab": {
          "base_uri": "https://localhost:8080/"
        },
        "id": "wC4jStts2WKD",
        "outputId": "f9f5cd08-a759-466b-c471-6830bea53687"
      },
      "source": [
        "Loan_df.info()"
      ],
      "execution_count": null,
      "outputs": [
        {
          "output_type": "stream",
          "text": [
            "<class 'pandas.core.frame.DataFrame'>\n",
            "Int64Index: 1731381 entries, 0 to 105015\n",
            "Columns: 150 entries, id to sec_app_fico_range_high\n",
            "dtypes: float64(111), object(39)\n",
            "memory usage: 1.9+ GB\n"
          ],
          "name": "stdout"
        }
      ]
    },
    {
      "cell_type": "markdown",
      "metadata": {
        "id": "5PawGjyQ6_1g"
      },
      "source": [
        "We want to extract the original date columns values so we can extract trend analysis from our data. We do this in the raw dataset before we transform and remove the NA. This is done to keep the true value of our date attribute."
      ]
    },
    {
      "cell_type": "code",
      "metadata": {
        "colab": {
          "base_uri": "https://localhost:8080/",
          "height": 711
        },
        "id": "jCRefQ0Ss_rC",
        "outputId": "93331607-3528-4d77-e878-e43463db3faa"
      },
      "source": [
        "Loan_df[100000:]"
      ],
      "execution_count": null,
      "outputs": [
        {
          "output_type": "execute_result",
          "data": {
            "text/html": [
              "<div>\n",
              "<style scoped>\n",
              "    .dataframe tbody tr th:only-of-type {\n",
              "        vertical-align: middle;\n",
              "    }\n",
              "\n",
              "    .dataframe tbody tr th {\n",
              "        vertical-align: top;\n",
              "    }\n",
              "\n",
              "    .dataframe thead th {\n",
              "        text-align: right;\n",
              "    }\n",
              "</style>\n",
              "<table border=\"1\" class=\"dataframe\">\n",
              "  <thead>\n",
              "    <tr style=\"text-align: right;\">\n",
              "      <th></th>\n",
              "      <th>id</th>\n",
              "      <th>member_id</th>\n",
              "      <th>loan_amnt</th>\n",
              "      <th>funded_amnt</th>\n",
              "      <th>funded_amnt_inv</th>\n",
              "      <th>term</th>\n",
              "      <th>int_rate</th>\n",
              "      <th>installment</th>\n",
              "      <th>grade</th>\n",
              "      <th>sub_grade</th>\n",
              "      <th>emp_title</th>\n",
              "      <th>emp_length</th>\n",
              "      <th>home_ownership</th>\n",
              "      <th>annual_inc</th>\n",
              "      <th>verification_status</th>\n",
              "      <th>issue_d</th>\n",
              "      <th>loan_status</th>\n",
              "      <th>pymnt_plan</th>\n",
              "      <th>url</th>\n",
              "      <th>desc</th>\n",
              "      <th>purpose</th>\n",
              "      <th>title</th>\n",
              "      <th>zip_code</th>\n",
              "      <th>addr_state</th>\n",
              "      <th>dti</th>\n",
              "      <th>delinq_2yrs</th>\n",
              "      <th>earliest_cr_line</th>\n",
              "      <th>inq_last_6mths</th>\n",
              "      <th>mths_since_last_delinq</th>\n",
              "      <th>mths_since_last_record</th>\n",
              "      <th>open_acc</th>\n",
              "      <th>pub_rec</th>\n",
              "      <th>revol_bal</th>\n",
              "      <th>revol_util</th>\n",
              "      <th>total_acc</th>\n",
              "      <th>initial_list_status</th>\n",
              "      <th>out_prncp</th>\n",
              "      <th>out_prncp_inv</th>\n",
              "      <th>total_pymnt</th>\n",
              "      <th>total_pymnt_inv</th>\n",
              "      <th>...</th>\n",
              "      <th>total_il_high_credit_limit</th>\n",
              "      <th>revol_bal_joint</th>\n",
              "      <th>sec_app_earliest_cr_line</th>\n",
              "      <th>sec_app_inq_last_6mths</th>\n",
              "      <th>sec_app_mort_acc</th>\n",
              "      <th>sec_app_open_acc</th>\n",
              "      <th>sec_app_revol_util</th>\n",
              "      <th>sec_app_open_act_il</th>\n",
              "      <th>sec_app_num_rev_accts</th>\n",
              "      <th>sec_app_chargeoff_within_12_mths</th>\n",
              "      <th>sec_app_collections_12_mths_ex_med</th>\n",
              "      <th>sec_app_mths_since_last_major_derog</th>\n",
              "      <th>hardship_flag</th>\n",
              "      <th>hardship_type</th>\n",
              "      <th>hardship_reason</th>\n",
              "      <th>hardship_status</th>\n",
              "      <th>deferral_term</th>\n",
              "      <th>hardship_amount</th>\n",
              "      <th>hardship_start_date</th>\n",
              "      <th>hardship_end_date</th>\n",
              "      <th>payment_plan_start_date</th>\n",
              "      <th>hardship_length</th>\n",
              "      <th>hardship_dpd</th>\n",
              "      <th>hardship_loan_status</th>\n",
              "      <th>orig_projected_additional_accrued_interest</th>\n",
              "      <th>hardship_payoff_balance_amount</th>\n",
              "      <th>hardship_last_payment_amount</th>\n",
              "      <th>debt_settlement_flag</th>\n",
              "      <th>debt_settlement_flag_date</th>\n",
              "      <th>settlement_status</th>\n",
              "      <th>settlement_date</th>\n",
              "      <th>settlement_amount</th>\n",
              "      <th>settlement_percentage</th>\n",
              "      <th>settlement_term</th>\n",
              "      <th>fico_range_low</th>\n",
              "      <th>fico_range_high</th>\n",
              "      <th>last_fico_range_high</th>\n",
              "      <th>last_fico_range_low</th>\n",
              "      <th>sec_app_fico_range_low</th>\n",
              "      <th>sec_app_fico_range_high</th>\n",
              "    </tr>\n",
              "  </thead>\n",
              "  <tbody>\n",
              "    <tr>\n",
              "      <th>2142</th>\n",
              "      <td>NaN</td>\n",
              "      <td>NaN</td>\n",
              "      <td>11200.0</td>\n",
              "      <td>11200.0</td>\n",
              "      <td>11200.0</td>\n",
              "      <td>60 months</td>\n",
              "      <td>18.99%</td>\n",
              "      <td>290.48</td>\n",
              "      <td>D</td>\n",
              "      <td>D3</td>\n",
              "      <td>Administrative Aide</td>\n",
              "      <td>1 year</td>\n",
              "      <td>RENT</td>\n",
              "      <td>38000.0</td>\n",
              "      <td>Source Verified</td>\n",
              "      <td>Sep-16</td>\n",
              "      <td>Fully Paid</td>\n",
              "      <td>n</td>\n",
              "      <td>NaN</td>\n",
              "      <td>NaN</td>\n",
              "      <td>debt_consolidation</td>\n",
              "      <td>Debt consolidation</td>\n",
              "      <td>331xx</td>\n",
              "      <td>FL</td>\n",
              "      <td>10.83</td>\n",
              "      <td>1.0</td>\n",
              "      <td>Dec-05</td>\n",
              "      <td>1.0</td>\n",
              "      <td>8.0</td>\n",
              "      <td>NaN</td>\n",
              "      <td>25.0</td>\n",
              "      <td>0.0</td>\n",
              "      <td>1415.0</td>\n",
              "      <td>17.7%</td>\n",
              "      <td>53.0</td>\n",
              "      <td>w</td>\n",
              "      <td>0.00</td>\n",
              "      <td>0.00</td>\n",
              "      <td>13033.010880</td>\n",
              "      <td>13033.01</td>\n",
              "      <td>...</td>\n",
              "      <td>49805.0</td>\n",
              "      <td>NaN</td>\n",
              "      <td>NaN</td>\n",
              "      <td>NaN</td>\n",
              "      <td>NaN</td>\n",
              "      <td>NaN</td>\n",
              "      <td>NaN</td>\n",
              "      <td>NaN</td>\n",
              "      <td>NaN</td>\n",
              "      <td>NaN</td>\n",
              "      <td>NaN</td>\n",
              "      <td>NaN</td>\n",
              "      <td>N</td>\n",
              "      <td>NaN</td>\n",
              "      <td>NaN</td>\n",
              "      <td>NaN</td>\n",
              "      <td>NaN</td>\n",
              "      <td>NaN</td>\n",
              "      <td>NaN</td>\n",
              "      <td>NaN</td>\n",
              "      <td>NaN</td>\n",
              "      <td>NaN</td>\n",
              "      <td>NaN</td>\n",
              "      <td>NaN</td>\n",
              "      <td>NaN</td>\n",
              "      <td>NaN</td>\n",
              "      <td>NaN</td>\n",
              "      <td>N</td>\n",
              "      <td>NaN</td>\n",
              "      <td>NaN</td>\n",
              "      <td>NaN</td>\n",
              "      <td>NaN</td>\n",
              "      <td>NaN</td>\n",
              "      <td>NaN</td>\n",
              "      <td>NaN</td>\n",
              "      <td>NaN</td>\n",
              "      <td>NaN</td>\n",
              "      <td>NaN</td>\n",
              "      <td>NaN</td>\n",
              "      <td>NaN</td>\n",
              "    </tr>\n",
              "    <tr>\n",
              "      <th>2143</th>\n",
              "      <td>NaN</td>\n",
              "      <td>NaN</td>\n",
              "      <td>25000.0</td>\n",
              "      <td>25000.0</td>\n",
              "      <td>25000.0</td>\n",
              "      <td>36 months</td>\n",
              "      <td>8.59%</td>\n",
              "      <td>790.24</td>\n",
              "      <td>A</td>\n",
              "      <td>A5</td>\n",
              "      <td>Attorney</td>\n",
              "      <td>10+ years</td>\n",
              "      <td>RENT</td>\n",
              "      <td>225000.0</td>\n",
              "      <td>Source Verified</td>\n",
              "      <td>Sep-16</td>\n",
              "      <td>Fully Paid</td>\n",
              "      <td>n</td>\n",
              "      <td>NaN</td>\n",
              "      <td>NaN</td>\n",
              "      <td>debt_consolidation</td>\n",
              "      <td>Debt consolidation</td>\n",
              "      <td>294xx</td>\n",
              "      <td>SC</td>\n",
              "      <td>6.57</td>\n",
              "      <td>1.0</td>\n",
              "      <td>Jul-85</td>\n",
              "      <td>0.0</td>\n",
              "      <td>13.0</td>\n",
              "      <td>24.0</td>\n",
              "      <td>5.0</td>\n",
              "      <td>2.0</td>\n",
              "      <td>11818.0</td>\n",
              "      <td>56.3%</td>\n",
              "      <td>21.0</td>\n",
              "      <td>w</td>\n",
              "      <td>0.00</td>\n",
              "      <td>0.00</td>\n",
              "      <td>27488.194672</td>\n",
              "      <td>27488.19</td>\n",
              "      <td>...</td>\n",
              "      <td>85325.0</td>\n",
              "      <td>NaN</td>\n",
              "      <td>NaN</td>\n",
              "      <td>NaN</td>\n",
              "      <td>NaN</td>\n",
              "      <td>NaN</td>\n",
              "      <td>NaN</td>\n",
              "      <td>NaN</td>\n",
              "      <td>NaN</td>\n",
              "      <td>NaN</td>\n",
              "      <td>NaN</td>\n",
              "      <td>NaN</td>\n",
              "      <td>N</td>\n",
              "      <td>NaN</td>\n",
              "      <td>NaN</td>\n",
              "      <td>NaN</td>\n",
              "      <td>NaN</td>\n",
              "      <td>NaN</td>\n",
              "      <td>NaN</td>\n",
              "      <td>NaN</td>\n",
              "      <td>NaN</td>\n",
              "      <td>NaN</td>\n",
              "      <td>NaN</td>\n",
              "      <td>NaN</td>\n",
              "      <td>NaN</td>\n",
              "      <td>NaN</td>\n",
              "      <td>NaN</td>\n",
              "      <td>N</td>\n",
              "      <td>NaN</td>\n",
              "      <td>NaN</td>\n",
              "      <td>NaN</td>\n",
              "      <td>NaN</td>\n",
              "      <td>NaN</td>\n",
              "      <td>NaN</td>\n",
              "      <td>NaN</td>\n",
              "      <td>NaN</td>\n",
              "      <td>NaN</td>\n",
              "      <td>NaN</td>\n",
              "      <td>NaN</td>\n",
              "      <td>NaN</td>\n",
              "    </tr>\n",
              "    <tr>\n",
              "      <th>2144</th>\n",
              "      <td>NaN</td>\n",
              "      <td>NaN</td>\n",
              "      <td>7000.0</td>\n",
              "      <td>7000.0</td>\n",
              "      <td>7000.0</td>\n",
              "      <td>36 months</td>\n",
              "      <td>11.49%</td>\n",
              "      <td>230.80</td>\n",
              "      <td>B</td>\n",
              "      <td>B5</td>\n",
              "      <td>Procurement Tech</td>\n",
              "      <td>10+ years</td>\n",
              "      <td>RENT</td>\n",
              "      <td>63137.0</td>\n",
              "      <td>Verified</td>\n",
              "      <td>Sep-16</td>\n",
              "      <td>Charged Off</td>\n",
              "      <td>n</td>\n",
              "      <td>NaN</td>\n",
              "      <td>NaN</td>\n",
              "      <td>major_purchase</td>\n",
              "      <td>Major purchase</td>\n",
              "      <td>947xx</td>\n",
              "      <td>CA</td>\n",
              "      <td>25.66</td>\n",
              "      <td>0.0</td>\n",
              "      <td>Jul-11</td>\n",
              "      <td>0.0</td>\n",
              "      <td>NaN</td>\n",
              "      <td>NaN</td>\n",
              "      <td>16.0</td>\n",
              "      <td>0.0</td>\n",
              "      <td>19667.0</td>\n",
              "      <td>68.8%</td>\n",
              "      <td>18.0</td>\n",
              "      <td>w</td>\n",
              "      <td>0.00</td>\n",
              "      <td>0.00</td>\n",
              "      <td>3648.350000</td>\n",
              "      <td>3648.35</td>\n",
              "      <td>...</td>\n",
              "      <td>38713.0</td>\n",
              "      <td>NaN</td>\n",
              "      <td>NaN</td>\n",
              "      <td>NaN</td>\n",
              "      <td>NaN</td>\n",
              "      <td>NaN</td>\n",
              "      <td>NaN</td>\n",
              "      <td>NaN</td>\n",
              "      <td>NaN</td>\n",
              "      <td>NaN</td>\n",
              "      <td>NaN</td>\n",
              "      <td>NaN</td>\n",
              "      <td>N</td>\n",
              "      <td>NaN</td>\n",
              "      <td>NaN</td>\n",
              "      <td>NaN</td>\n",
              "      <td>NaN</td>\n",
              "      <td>NaN</td>\n",
              "      <td>NaN</td>\n",
              "      <td>NaN</td>\n",
              "      <td>NaN</td>\n",
              "      <td>NaN</td>\n",
              "      <td>NaN</td>\n",
              "      <td>NaN</td>\n",
              "      <td>NaN</td>\n",
              "      <td>NaN</td>\n",
              "      <td>NaN</td>\n",
              "      <td>N</td>\n",
              "      <td>NaN</td>\n",
              "      <td>NaN</td>\n",
              "      <td>NaN</td>\n",
              "      <td>NaN</td>\n",
              "      <td>NaN</td>\n",
              "      <td>NaN</td>\n",
              "      <td>NaN</td>\n",
              "      <td>NaN</td>\n",
              "      <td>NaN</td>\n",
              "      <td>NaN</td>\n",
              "      <td>NaN</td>\n",
              "      <td>NaN</td>\n",
              "    </tr>\n",
              "    <tr>\n",
              "      <th>2145</th>\n",
              "      <td>NaN</td>\n",
              "      <td>NaN</td>\n",
              "      <td>13000.0</td>\n",
              "      <td>13000.0</td>\n",
              "      <td>13000.0</td>\n",
              "      <td>36 months</td>\n",
              "      <td>24.49%</td>\n",
              "      <td>513.38</td>\n",
              "      <td>E</td>\n",
              "      <td>E3</td>\n",
              "      <td>RECRUITER</td>\n",
              "      <td>10+ years</td>\n",
              "      <td>MORTGAGE</td>\n",
              "      <td>92000.0</td>\n",
              "      <td>Verified</td>\n",
              "      <td>Sep-16</td>\n",
              "      <td>Fully Paid</td>\n",
              "      <td>n</td>\n",
              "      <td>NaN</td>\n",
              "      <td>NaN</td>\n",
              "      <td>debt_consolidation</td>\n",
              "      <td>Debt consolidation</td>\n",
              "      <td>303xx</td>\n",
              "      <td>GA</td>\n",
              "      <td>20.98</td>\n",
              "      <td>0.0</td>\n",
              "      <td>Jul-98</td>\n",
              "      <td>1.0</td>\n",
              "      <td>NaN</td>\n",
              "      <td>48.0</td>\n",
              "      <td>13.0</td>\n",
              "      <td>1.0</td>\n",
              "      <td>10741.0</td>\n",
              "      <td>42.8%</td>\n",
              "      <td>17.0</td>\n",
              "      <td>f</td>\n",
              "      <td>0.00</td>\n",
              "      <td>0.00</td>\n",
              "      <td>14730.008812</td>\n",
              "      <td>14730.01</td>\n",
              "      <td>...</td>\n",
              "      <td>47433.0</td>\n",
              "      <td>NaN</td>\n",
              "      <td>NaN</td>\n",
              "      <td>NaN</td>\n",
              "      <td>NaN</td>\n",
              "      <td>NaN</td>\n",
              "      <td>NaN</td>\n",
              "      <td>NaN</td>\n",
              "      <td>NaN</td>\n",
              "      <td>NaN</td>\n",
              "      <td>NaN</td>\n",
              "      <td>NaN</td>\n",
              "      <td>N</td>\n",
              "      <td>NaN</td>\n",
              "      <td>NaN</td>\n",
              "      <td>NaN</td>\n",
              "      <td>NaN</td>\n",
              "      <td>NaN</td>\n",
              "      <td>NaN</td>\n",
              "      <td>NaN</td>\n",
              "      <td>NaN</td>\n",
              "      <td>NaN</td>\n",
              "      <td>NaN</td>\n",
              "      <td>NaN</td>\n",
              "      <td>NaN</td>\n",
              "      <td>NaN</td>\n",
              "      <td>NaN</td>\n",
              "      <td>N</td>\n",
              "      <td>NaN</td>\n",
              "      <td>NaN</td>\n",
              "      <td>NaN</td>\n",
              "      <td>NaN</td>\n",
              "      <td>NaN</td>\n",
              "      <td>NaN</td>\n",
              "      <td>NaN</td>\n",
              "      <td>NaN</td>\n",
              "      <td>NaN</td>\n",
              "      <td>NaN</td>\n",
              "      <td>NaN</td>\n",
              "      <td>NaN</td>\n",
              "    </tr>\n",
              "    <tr>\n",
              "      <th>2146</th>\n",
              "      <td>NaN</td>\n",
              "      <td>NaN</td>\n",
              "      <td>18000.0</td>\n",
              "      <td>18000.0</td>\n",
              "      <td>18000.0</td>\n",
              "      <td>60 months</td>\n",
              "      <td>15.59%</td>\n",
              "      <td>433.82</td>\n",
              "      <td>C</td>\n",
              "      <td>C5</td>\n",
              "      <td>Maintenance manger</td>\n",
              "      <td>10+ years</td>\n",
              "      <td>MORTGAGE</td>\n",
              "      <td>92000.0</td>\n",
              "      <td>Not Verified</td>\n",
              "      <td>Sep-16</td>\n",
              "      <td>Fully Paid</td>\n",
              "      <td>n</td>\n",
              "      <td>NaN</td>\n",
              "      <td>NaN</td>\n",
              "      <td>debt_consolidation</td>\n",
              "      <td>Debt consolidation</td>\n",
              "      <td>494xx</td>\n",
              "      <td>MI</td>\n",
              "      <td>16.51</td>\n",
              "      <td>0.0</td>\n",
              "      <td>Jun-03</td>\n",
              "      <td>0.0</td>\n",
              "      <td>NaN</td>\n",
              "      <td>NaN</td>\n",
              "      <td>11.0</td>\n",
              "      <td>0.0</td>\n",
              "      <td>26761.0</td>\n",
              "      <td>69.3%</td>\n",
              "      <td>33.0</td>\n",
              "      <td>f</td>\n",
              "      <td>0.00</td>\n",
              "      <td>0.00</td>\n",
              "      <td>22450.766087</td>\n",
              "      <td>22450.77</td>\n",
              "      <td>...</td>\n",
              "      <td>35820.0</td>\n",
              "      <td>NaN</td>\n",
              "      <td>NaN</td>\n",
              "      <td>NaN</td>\n",
              "      <td>NaN</td>\n",
              "      <td>NaN</td>\n",
              "      <td>NaN</td>\n",
              "      <td>NaN</td>\n",
              "      <td>NaN</td>\n",
              "      <td>NaN</td>\n",
              "      <td>NaN</td>\n",
              "      <td>NaN</td>\n",
              "      <td>N</td>\n",
              "      <td>NaN</td>\n",
              "      <td>NaN</td>\n",
              "      <td>NaN</td>\n",
              "      <td>NaN</td>\n",
              "      <td>NaN</td>\n",
              "      <td>NaN</td>\n",
              "      <td>NaN</td>\n",
              "      <td>NaN</td>\n",
              "      <td>NaN</td>\n",
              "      <td>NaN</td>\n",
              "      <td>NaN</td>\n",
              "      <td>NaN</td>\n",
              "      <td>NaN</td>\n",
              "      <td>NaN</td>\n",
              "      <td>N</td>\n",
              "      <td>NaN</td>\n",
              "      <td>NaN</td>\n",
              "      <td>NaN</td>\n",
              "      <td>NaN</td>\n",
              "      <td>NaN</td>\n",
              "      <td>NaN</td>\n",
              "      <td>NaN</td>\n",
              "      <td>NaN</td>\n",
              "      <td>NaN</td>\n",
              "      <td>NaN</td>\n",
              "      <td>NaN</td>\n",
              "      <td>NaN</td>\n",
              "    </tr>\n",
              "    <tr>\n",
              "      <th>...</th>\n",
              "      <td>...</td>\n",
              "      <td>...</td>\n",
              "      <td>...</td>\n",
              "      <td>...</td>\n",
              "      <td>...</td>\n",
              "      <td>...</td>\n",
              "      <td>...</td>\n",
              "      <td>...</td>\n",
              "      <td>...</td>\n",
              "      <td>...</td>\n",
              "      <td>...</td>\n",
              "      <td>...</td>\n",
              "      <td>...</td>\n",
              "      <td>...</td>\n",
              "      <td>...</td>\n",
              "      <td>...</td>\n",
              "      <td>...</td>\n",
              "      <td>...</td>\n",
              "      <td>...</td>\n",
              "      <td>...</td>\n",
              "      <td>...</td>\n",
              "      <td>...</td>\n",
              "      <td>...</td>\n",
              "      <td>...</td>\n",
              "      <td>...</td>\n",
              "      <td>...</td>\n",
              "      <td>...</td>\n",
              "      <td>...</td>\n",
              "      <td>...</td>\n",
              "      <td>...</td>\n",
              "      <td>...</td>\n",
              "      <td>...</td>\n",
              "      <td>...</td>\n",
              "      <td>...</td>\n",
              "      <td>...</td>\n",
              "      <td>...</td>\n",
              "      <td>...</td>\n",
              "      <td>...</td>\n",
              "      <td>...</td>\n",
              "      <td>...</td>\n",
              "      <td>...</td>\n",
              "      <td>...</td>\n",
              "      <td>...</td>\n",
              "      <td>...</td>\n",
              "      <td>...</td>\n",
              "      <td>...</td>\n",
              "      <td>...</td>\n",
              "      <td>...</td>\n",
              "      <td>...</td>\n",
              "      <td>...</td>\n",
              "      <td>...</td>\n",
              "      <td>...</td>\n",
              "      <td>...</td>\n",
              "      <td>...</td>\n",
              "      <td>...</td>\n",
              "      <td>...</td>\n",
              "      <td>...</td>\n",
              "      <td>...</td>\n",
              "      <td>...</td>\n",
              "      <td>...</td>\n",
              "      <td>...</td>\n",
              "      <td>...</td>\n",
              "      <td>...</td>\n",
              "      <td>...</td>\n",
              "      <td>...</td>\n",
              "      <td>...</td>\n",
              "      <td>...</td>\n",
              "      <td>...</td>\n",
              "      <td>...</td>\n",
              "      <td>...</td>\n",
              "      <td>...</td>\n",
              "      <td>...</td>\n",
              "      <td>...</td>\n",
              "      <td>...</td>\n",
              "      <td>...</td>\n",
              "      <td>...</td>\n",
              "      <td>...</td>\n",
              "      <td>...</td>\n",
              "      <td>...</td>\n",
              "      <td>...</td>\n",
              "      <td>...</td>\n",
              "    </tr>\n",
              "    <tr>\n",
              "      <th>105011</th>\n",
              "      <td>162914373</td>\n",
              "      <td>NaN</td>\n",
              "      <td>20000.0</td>\n",
              "      <td>20000.0</td>\n",
              "      <td>20000.0</td>\n",
              "      <td>36 months</td>\n",
              "      <td>12.40%</td>\n",
              "      <td>668.12</td>\n",
              "      <td>B</td>\n",
              "      <td>B4</td>\n",
              "      <td>sanitation</td>\n",
              "      <td>10+ years</td>\n",
              "      <td>MORTGAGE</td>\n",
              "      <td>78000.0</td>\n",
              "      <td>Not Verified</td>\n",
              "      <td>Jan-20</td>\n",
              "      <td>Current</td>\n",
              "      <td>n</td>\n",
              "      <td>https://lendingclub.com/browse/loanDetail.acti...</td>\n",
              "      <td>NaN</td>\n",
              "      <td>house</td>\n",
              "      <td>Home buying</td>\n",
              "      <td>608xx</td>\n",
              "      <td>IL</td>\n",
              "      <td>11.42</td>\n",
              "      <td>0.0</td>\n",
              "      <td>May-06</td>\n",
              "      <td>0.0</td>\n",
              "      <td>NaN</td>\n",
              "      <td>NaN</td>\n",
              "      <td>10.0</td>\n",
              "      <td>0.0</td>\n",
              "      <td>12320.0</td>\n",
              "      <td>31.5%</td>\n",
              "      <td>22.0</td>\n",
              "      <td>w</td>\n",
              "      <td>16676.62</td>\n",
              "      <td>16676.62</td>\n",
              "      <td>4649.280000</td>\n",
              "      <td>4649.28</td>\n",
              "      <td>...</td>\n",
              "      <td>29742.0</td>\n",
              "      <td>NaN</td>\n",
              "      <td>NaN</td>\n",
              "      <td>NaN</td>\n",
              "      <td>NaN</td>\n",
              "      <td>NaN</td>\n",
              "      <td>NaN</td>\n",
              "      <td>NaN</td>\n",
              "      <td>NaN</td>\n",
              "      <td>NaN</td>\n",
              "      <td>NaN</td>\n",
              "      <td>NaN</td>\n",
              "      <td>NaN</td>\n",
              "      <td>NaN</td>\n",
              "      <td>NaN</td>\n",
              "      <td>NaN</td>\n",
              "      <td>NaN</td>\n",
              "      <td>668.12</td>\n",
              "      <td>NaN</td>\n",
              "      <td>NaN</td>\n",
              "      <td>NaN</td>\n",
              "      <td>NaN</td>\n",
              "      <td>NaN</td>\n",
              "      <td>NaN</td>\n",
              "      <td>516.97521</td>\n",
              "      <td>16837.46</td>\n",
              "      <td>668.12</td>\n",
              "      <td>N</td>\n",
              "      <td>NaN</td>\n",
              "      <td>NaN</td>\n",
              "      <td>NaN</td>\n",
              "      <td>NaN</td>\n",
              "      <td>NaN</td>\n",
              "      <td>NaN</td>\n",
              "      <td>700.0</td>\n",
              "      <td>704.0</td>\n",
              "      <td>689.0</td>\n",
              "      <td>685.0</td>\n",
              "      <td>NaN</td>\n",
              "      <td>NaN</td>\n",
              "    </tr>\n",
              "    <tr>\n",
              "      <th>105012</th>\n",
              "      <td>NaN</td>\n",
              "      <td>NaN</td>\n",
              "      <td>NaN</td>\n",
              "      <td>NaN</td>\n",
              "      <td>NaN</td>\n",
              "      <td>NaN</td>\n",
              "      <td>NaN</td>\n",
              "      <td>NaN</td>\n",
              "      <td>NaN</td>\n",
              "      <td>NaN</td>\n",
              "      <td>NaN</td>\n",
              "      <td>NaN</td>\n",
              "      <td>NaN</td>\n",
              "      <td>NaN</td>\n",
              "      <td>NaN</td>\n",
              "      <td>NaN</td>\n",
              "      <td>NaN</td>\n",
              "      <td>NaN</td>\n",
              "      <td>NaN</td>\n",
              "      <td>NaN</td>\n",
              "      <td>NaN</td>\n",
              "      <td>NaN</td>\n",
              "      <td>NaN</td>\n",
              "      <td>NaN</td>\n",
              "      <td>NaN</td>\n",
              "      <td>NaN</td>\n",
              "      <td>NaN</td>\n",
              "      <td>NaN</td>\n",
              "      <td>NaN</td>\n",
              "      <td>NaN</td>\n",
              "      <td>NaN</td>\n",
              "      <td>NaN</td>\n",
              "      <td>NaN</td>\n",
              "      <td>NaN</td>\n",
              "      <td>NaN</td>\n",
              "      <td>NaN</td>\n",
              "      <td>NaN</td>\n",
              "      <td>NaN</td>\n",
              "      <td>NaN</td>\n",
              "      <td>NaN</td>\n",
              "      <td>...</td>\n",
              "      <td>NaN</td>\n",
              "      <td>NaN</td>\n",
              "      <td>NaN</td>\n",
              "      <td>NaN</td>\n",
              "      <td>NaN</td>\n",
              "      <td>NaN</td>\n",
              "      <td>NaN</td>\n",
              "      <td>NaN</td>\n",
              "      <td>NaN</td>\n",
              "      <td>NaN</td>\n",
              "      <td>NaN</td>\n",
              "      <td>NaN</td>\n",
              "      <td>NaN</td>\n",
              "      <td>NaN</td>\n",
              "      <td>NaN</td>\n",
              "      <td>NaN</td>\n",
              "      <td>NaN</td>\n",
              "      <td>NaN</td>\n",
              "      <td>NaN</td>\n",
              "      <td>NaN</td>\n",
              "      <td>NaN</td>\n",
              "      <td>NaN</td>\n",
              "      <td>NaN</td>\n",
              "      <td>NaN</td>\n",
              "      <td>NaN</td>\n",
              "      <td>NaN</td>\n",
              "      <td>NaN</td>\n",
              "      <td>NaN</td>\n",
              "      <td>NaN</td>\n",
              "      <td>NaN</td>\n",
              "      <td>NaN</td>\n",
              "      <td>NaN</td>\n",
              "      <td>NaN</td>\n",
              "      <td>NaN</td>\n",
              "      <td>NaN</td>\n",
              "      <td>NaN</td>\n",
              "      <td>NaN</td>\n",
              "      <td>NaN</td>\n",
              "      <td>NaN</td>\n",
              "      <td>NaN</td>\n",
              "    </tr>\n",
              "    <tr>\n",
              "      <th>105013</th>\n",
              "      <td>NaN</td>\n",
              "      <td>NaN</td>\n",
              "      <td>NaN</td>\n",
              "      <td>NaN</td>\n",
              "      <td>NaN</td>\n",
              "      <td>NaN</td>\n",
              "      <td>NaN</td>\n",
              "      <td>NaN</td>\n",
              "      <td>NaN</td>\n",
              "      <td>NaN</td>\n",
              "      <td>NaN</td>\n",
              "      <td>NaN</td>\n",
              "      <td>NaN</td>\n",
              "      <td>NaN</td>\n",
              "      <td>NaN</td>\n",
              "      <td>NaN</td>\n",
              "      <td>NaN</td>\n",
              "      <td>NaN</td>\n",
              "      <td>NaN</td>\n",
              "      <td>NaN</td>\n",
              "      <td>NaN</td>\n",
              "      <td>NaN</td>\n",
              "      <td>NaN</td>\n",
              "      <td>NaN</td>\n",
              "      <td>NaN</td>\n",
              "      <td>NaN</td>\n",
              "      <td>NaN</td>\n",
              "      <td>NaN</td>\n",
              "      <td>NaN</td>\n",
              "      <td>NaN</td>\n",
              "      <td>NaN</td>\n",
              "      <td>NaN</td>\n",
              "      <td>NaN</td>\n",
              "      <td>NaN</td>\n",
              "      <td>NaN</td>\n",
              "      <td>NaN</td>\n",
              "      <td>NaN</td>\n",
              "      <td>NaN</td>\n",
              "      <td>NaN</td>\n",
              "      <td>NaN</td>\n",
              "      <td>...</td>\n",
              "      <td>NaN</td>\n",
              "      <td>NaN</td>\n",
              "      <td>NaN</td>\n",
              "      <td>NaN</td>\n",
              "      <td>NaN</td>\n",
              "      <td>NaN</td>\n",
              "      <td>NaN</td>\n",
              "      <td>NaN</td>\n",
              "      <td>NaN</td>\n",
              "      <td>NaN</td>\n",
              "      <td>NaN</td>\n",
              "      <td>NaN</td>\n",
              "      <td>NaN</td>\n",
              "      <td>NaN</td>\n",
              "      <td>NaN</td>\n",
              "      <td>NaN</td>\n",
              "      <td>NaN</td>\n",
              "      <td>NaN</td>\n",
              "      <td>NaN</td>\n",
              "      <td>NaN</td>\n",
              "      <td>NaN</td>\n",
              "      <td>NaN</td>\n",
              "      <td>NaN</td>\n",
              "      <td>NaN</td>\n",
              "      <td>NaN</td>\n",
              "      <td>NaN</td>\n",
              "      <td>NaN</td>\n",
              "      <td>NaN</td>\n",
              "      <td>NaN</td>\n",
              "      <td>NaN</td>\n",
              "      <td>NaN</td>\n",
              "      <td>NaN</td>\n",
              "      <td>NaN</td>\n",
              "      <td>NaN</td>\n",
              "      <td>NaN</td>\n",
              "      <td>NaN</td>\n",
              "      <td>NaN</td>\n",
              "      <td>NaN</td>\n",
              "      <td>NaN</td>\n",
              "      <td>NaN</td>\n",
              "    </tr>\n",
              "    <tr>\n",
              "      <th>105014</th>\n",
              "      <td>Total amount funded in policy code 1: 1767320000</td>\n",
              "      <td>NaN</td>\n",
              "      <td>NaN</td>\n",
              "      <td>NaN</td>\n",
              "      <td>NaN</td>\n",
              "      <td>NaN</td>\n",
              "      <td>NaN</td>\n",
              "      <td>NaN</td>\n",
              "      <td>NaN</td>\n",
              "      <td>NaN</td>\n",
              "      <td>NaN</td>\n",
              "      <td>NaN</td>\n",
              "      <td>NaN</td>\n",
              "      <td>NaN</td>\n",
              "      <td>NaN</td>\n",
              "      <td>NaN</td>\n",
              "      <td>NaN</td>\n",
              "      <td>NaN</td>\n",
              "      <td>NaN</td>\n",
              "      <td>NaN</td>\n",
              "      <td>NaN</td>\n",
              "      <td>NaN</td>\n",
              "      <td>NaN</td>\n",
              "      <td>NaN</td>\n",
              "      <td>NaN</td>\n",
              "      <td>NaN</td>\n",
              "      <td>NaN</td>\n",
              "      <td>NaN</td>\n",
              "      <td>NaN</td>\n",
              "      <td>NaN</td>\n",
              "      <td>NaN</td>\n",
              "      <td>NaN</td>\n",
              "      <td>NaN</td>\n",
              "      <td>NaN</td>\n",
              "      <td>NaN</td>\n",
              "      <td>NaN</td>\n",
              "      <td>NaN</td>\n",
              "      <td>NaN</td>\n",
              "      <td>NaN</td>\n",
              "      <td>NaN</td>\n",
              "      <td>...</td>\n",
              "      <td>NaN</td>\n",
              "      <td>NaN</td>\n",
              "      <td>NaN</td>\n",
              "      <td>NaN</td>\n",
              "      <td>NaN</td>\n",
              "      <td>NaN</td>\n",
              "      <td>NaN</td>\n",
              "      <td>NaN</td>\n",
              "      <td>NaN</td>\n",
              "      <td>NaN</td>\n",
              "      <td>NaN</td>\n",
              "      <td>NaN</td>\n",
              "      <td>NaN</td>\n",
              "      <td>NaN</td>\n",
              "      <td>NaN</td>\n",
              "      <td>NaN</td>\n",
              "      <td>NaN</td>\n",
              "      <td>NaN</td>\n",
              "      <td>NaN</td>\n",
              "      <td>NaN</td>\n",
              "      <td>NaN</td>\n",
              "      <td>NaN</td>\n",
              "      <td>NaN</td>\n",
              "      <td>NaN</td>\n",
              "      <td>NaN</td>\n",
              "      <td>NaN</td>\n",
              "      <td>NaN</td>\n",
              "      <td>NaN</td>\n",
              "      <td>NaN</td>\n",
              "      <td>NaN</td>\n",
              "      <td>NaN</td>\n",
              "      <td>NaN</td>\n",
              "      <td>NaN</td>\n",
              "      <td>NaN</td>\n",
              "      <td>NaN</td>\n",
              "      <td>NaN</td>\n",
              "      <td>NaN</td>\n",
              "      <td>NaN</td>\n",
              "      <td>NaN</td>\n",
              "      <td>NaN</td>\n",
              "    </tr>\n",
              "    <tr>\n",
              "      <th>105015</th>\n",
              "      <td>Total amount funded in policy code 2: 712441960</td>\n",
              "      <td>NaN</td>\n",
              "      <td>NaN</td>\n",
              "      <td>NaN</td>\n",
              "      <td>NaN</td>\n",
              "      <td>NaN</td>\n",
              "      <td>NaN</td>\n",
              "      <td>NaN</td>\n",
              "      <td>NaN</td>\n",
              "      <td>NaN</td>\n",
              "      <td>NaN</td>\n",
              "      <td>NaN</td>\n",
              "      <td>NaN</td>\n",
              "      <td>NaN</td>\n",
              "      <td>NaN</td>\n",
              "      <td>NaN</td>\n",
              "      <td>NaN</td>\n",
              "      <td>NaN</td>\n",
              "      <td>NaN</td>\n",
              "      <td>NaN</td>\n",
              "      <td>NaN</td>\n",
              "      <td>NaN</td>\n",
              "      <td>NaN</td>\n",
              "      <td>NaN</td>\n",
              "      <td>NaN</td>\n",
              "      <td>NaN</td>\n",
              "      <td>NaN</td>\n",
              "      <td>NaN</td>\n",
              "      <td>NaN</td>\n",
              "      <td>NaN</td>\n",
              "      <td>NaN</td>\n",
              "      <td>NaN</td>\n",
              "      <td>NaN</td>\n",
              "      <td>NaN</td>\n",
              "      <td>NaN</td>\n",
              "      <td>NaN</td>\n",
              "      <td>NaN</td>\n",
              "      <td>NaN</td>\n",
              "      <td>NaN</td>\n",
              "      <td>NaN</td>\n",
              "      <td>...</td>\n",
              "      <td>NaN</td>\n",
              "      <td>NaN</td>\n",
              "      <td>NaN</td>\n",
              "      <td>NaN</td>\n",
              "      <td>NaN</td>\n",
              "      <td>NaN</td>\n",
              "      <td>NaN</td>\n",
              "      <td>NaN</td>\n",
              "      <td>NaN</td>\n",
              "      <td>NaN</td>\n",
              "      <td>NaN</td>\n",
              "      <td>NaN</td>\n",
              "      <td>NaN</td>\n",
              "      <td>NaN</td>\n",
              "      <td>NaN</td>\n",
              "      <td>NaN</td>\n",
              "      <td>NaN</td>\n",
              "      <td>NaN</td>\n",
              "      <td>NaN</td>\n",
              "      <td>NaN</td>\n",
              "      <td>NaN</td>\n",
              "      <td>NaN</td>\n",
              "      <td>NaN</td>\n",
              "      <td>NaN</td>\n",
              "      <td>NaN</td>\n",
              "      <td>NaN</td>\n",
              "      <td>NaN</td>\n",
              "      <td>NaN</td>\n",
              "      <td>NaN</td>\n",
              "      <td>NaN</td>\n",
              "      <td>NaN</td>\n",
              "      <td>NaN</td>\n",
              "      <td>NaN</td>\n",
              "      <td>NaN</td>\n",
              "      <td>NaN</td>\n",
              "      <td>NaN</td>\n",
              "      <td>NaN</td>\n",
              "      <td>NaN</td>\n",
              "      <td>NaN</td>\n",
              "      <td>NaN</td>\n",
              "    </tr>\n",
              "  </tbody>\n",
              "</table>\n",
              "<p>1631381 rows × 150 columns</p>\n",
              "</div>"
            ],
            "text/plain": [
              "                                                      id  ...  sec_app_fico_range_high\n",
              "2142                                                 NaN  ...                      NaN\n",
              "2143                                                 NaN  ...                      NaN\n",
              "2144                                                 NaN  ...                      NaN\n",
              "2145                                                 NaN  ...                      NaN\n",
              "2146                                                 NaN  ...                      NaN\n",
              "...                                                  ...  ...                      ...\n",
              "105011                                         162914373  ...                      NaN\n",
              "105012                                               NaN  ...                      NaN\n",
              "105013                                               NaN  ...                      NaN\n",
              "105014  Total amount funded in policy code 1: 1767320000  ...                      NaN\n",
              "105015   Total amount funded in policy code 2: 712441960  ...                      NaN\n",
              "\n",
              "[1631381 rows x 150 columns]"
            ]
          },
          "metadata": {
            "tags": []
          },
          "execution_count": 49
        }
      ]
    },
    {
      "cell_type": "code",
      "metadata": {
        "id": "sP8prUhvvwZH"
      },
      "source": [
        "time_stamp=Loan_df['issue_d']"
      ],
      "execution_count": null,
      "outputs": []
    },
    {
      "cell_type": "code",
      "metadata": {
        "id": "Z5YvRrdJs7l8"
      },
      "source": [
        ""
      ],
      "execution_count": null,
      "outputs": []
    },
    {
      "cell_type": "code",
      "metadata": {
        "id": "ur5WvIMAwVO8"
      },
      "source": [
        "time_stamp.to_csv('date.csv')"
      ],
      "execution_count": null,
      "outputs": []
    },
    {
      "cell_type": "markdown",
      "metadata": {
        "id": "4pu3AHp37VL_"
      },
      "source": [
        "Missing values can be ditrimental to a dataset they can make the analysis done on the data not valid especially if an attribute has more than 50% of its observations missing. In our system we find NAs and remove all the NAs with more than 10% missing value."
      ]
    },
    {
      "cell_type": "code",
      "metadata": {
        "id": "RAgxWXgd49RV"
      },
      "source": [
        "df_count_na=Loan_df.isna()\n",
        "\n",
        "df_count_na_sum=df_count_na.sum()\n",
        "\n",
        "Percent_NA=df_count_na_sum/len(Loan_df)"
      ],
      "execution_count": null,
      "outputs": []
    },
    {
      "cell_type": "code",
      "metadata": {
        "colab": {
          "base_uri": "https://localhost:8080/"
        },
        "id": "nAlTv9DQ5JVw",
        "outputId": "3a689a79-dbbe-421a-9700-f7d062b85347"
      },
      "source": [
        "Percent_NA"
      ],
      "execution_count": null,
      "outputs": [
        {
          "output_type": "execute_result",
          "data": {
            "text/plain": [
              "id                         0.715828\n",
              "member_id                  1.000000\n",
              "loan_amnt                  0.000035\n",
              "funded_amnt                0.000035\n",
              "funded_amnt_inv            0.000035\n",
              "                             ...   \n",
              "fico_range_high            0.715865\n",
              "last_fico_range_high       0.715865\n",
              "last_fico_range_low        0.715865\n",
              "sec_app_fico_range_low     0.961983\n",
              "sec_app_fico_range_high    0.961983\n",
              "Length: 150, dtype: float64"
            ]
          },
          "metadata": {
            "tags": []
          },
          "execution_count": 61
        }
      ]
    },
    {
      "cell_type": "markdown",
      "metadata": {
        "id": "pC9Aggl17yg1"
      },
      "source": [
        "List of Columns with more than 10% of missing values."
      ]
    },
    {
      "cell_type": "code",
      "metadata": {
        "colab": {
          "base_uri": "https://localhost:8080/"
        },
        "id": "uYjvyjd-5MwC",
        "outputId": "cfa80f58-b919-4a27-d469-5cad9e3cf541"
      },
      "source": [
        "df_count_na_10=Percent_NA>0.10\n",
        "\n",
        "df_count_na_10_index=df_count_na_10.tolist()\n",
        "\n",
        "index_missing=np.where(df_count_na_10_index)[0]\n",
        "\n",
        "index_to_remove=index_missing.tolist()\n",
        " \n",
        "list_col_to_remove=[]\n",
        "\n",
        "columns= Loan_df.columns.tolist()\n",
        "\n",
        "for i in index_to_remove:\n",
        "    add=columns[i]\n",
        "    list_col_to_remove.append(add)\n",
        "    \n",
        "list_col_to_remove"
      ],
      "execution_count": null,
      "outputs": [
        {
          "output_type": "execute_result",
          "data": {
            "text/plain": [
              "['id',\n",
              " 'member_id',\n",
              " 'emp_title',\n",
              " 'url',\n",
              " 'desc',\n",
              " 'mths_since_last_delinq',\n",
              " 'mths_since_last_record',\n",
              " 'next_pymnt_d',\n",
              " 'mths_since_last_major_derog',\n",
              " 'annual_inc_joint',\n",
              " 'dti_joint',\n",
              " 'verification_status_joint',\n",
              " 'il_util',\n",
              " 'mths_since_recent_bc_dlq',\n",
              " 'mths_since_recent_inq',\n",
              " 'mths_since_recent_revol_delinq',\n",
              " 'revol_bal_joint',\n",
              " 'sec_app_earliest_cr_line',\n",
              " 'sec_app_inq_last_6mths',\n",
              " 'sec_app_mort_acc',\n",
              " 'sec_app_open_acc',\n",
              " 'sec_app_revol_util',\n",
              " 'sec_app_open_act_il',\n",
              " 'sec_app_num_rev_accts',\n",
              " 'sec_app_chargeoff_within_12_mths',\n",
              " 'sec_app_collections_12_mths_ex_med',\n",
              " 'sec_app_mths_since_last_major_derog',\n",
              " 'hardship_type',\n",
              " 'hardship_reason',\n",
              " 'hardship_status',\n",
              " 'deferral_term',\n",
              " 'hardship_amount',\n",
              " 'hardship_start_date',\n",
              " 'hardship_end_date',\n",
              " 'payment_plan_start_date',\n",
              " 'hardship_length',\n",
              " 'hardship_dpd',\n",
              " 'hardship_loan_status',\n",
              " 'orig_projected_additional_accrued_interest',\n",
              " 'hardship_payoff_balance_amount',\n",
              " 'hardship_last_payment_amount',\n",
              " 'debt_settlement_flag_date',\n",
              " 'settlement_status',\n",
              " 'settlement_date',\n",
              " 'settlement_amount',\n",
              " 'settlement_percentage',\n",
              " 'settlement_term',\n",
              " 'fico_range_low',\n",
              " 'fico_range_high',\n",
              " 'last_fico_range_high',\n",
              " 'last_fico_range_low',\n",
              " 'sec_app_fico_range_low',\n",
              " 'sec_app_fico_range_high']"
            ]
          },
          "metadata": {
            "tags": []
          },
          "execution_count": 62
        }
      ]
    },
    {
      "cell_type": "code",
      "metadata": {
        "id": "W_lhJN9w7NMf"
      },
      "source": [
        "Loan_df=Loan_df.drop(list_col_to_remove, axis=1)"
      ],
      "execution_count": null,
      "outputs": []
    },
    {
      "cell_type": "markdown",
      "metadata": {
        "id": "v3II3Evl78Uy"
      },
      "source": [
        "Our remaining dataset 97 columns."
      ]
    },
    {
      "cell_type": "code",
      "metadata": {
        "colab": {
          "base_uri": "https://localhost:8080/",
          "height": 338
        },
        "id": "GvaX3zXb7aEh",
        "outputId": "dbfe1e8a-258f-46d8-8e30-da70a00c97b6"
      },
      "source": [
        "Loan_df.head()"
      ],
      "execution_count": null,
      "outputs": [
        {
          "output_type": "execute_result",
          "data": {
            "text/html": [
              "<div>\n",
              "<style scoped>\n",
              "    .dataframe tbody tr th:only-of-type {\n",
              "        vertical-align: middle;\n",
              "    }\n",
              "\n",
              "    .dataframe tbody tr th {\n",
              "        vertical-align: top;\n",
              "    }\n",
              "\n",
              "    .dataframe thead th {\n",
              "        text-align: right;\n",
              "    }\n",
              "</style>\n",
              "<table border=\"1\" class=\"dataframe\">\n",
              "  <thead>\n",
              "    <tr style=\"text-align: right;\">\n",
              "      <th></th>\n",
              "      <th>loan_amnt</th>\n",
              "      <th>funded_amnt</th>\n",
              "      <th>funded_amnt_inv</th>\n",
              "      <th>term</th>\n",
              "      <th>int_rate</th>\n",
              "      <th>installment</th>\n",
              "      <th>grade</th>\n",
              "      <th>sub_grade</th>\n",
              "      <th>emp_length</th>\n",
              "      <th>home_ownership</th>\n",
              "      <th>annual_inc</th>\n",
              "      <th>verification_status</th>\n",
              "      <th>issue_d</th>\n",
              "      <th>loan_status</th>\n",
              "      <th>pymnt_plan</th>\n",
              "      <th>purpose</th>\n",
              "      <th>title</th>\n",
              "      <th>zip_code</th>\n",
              "      <th>addr_state</th>\n",
              "      <th>dti</th>\n",
              "      <th>delinq_2yrs</th>\n",
              "      <th>earliest_cr_line</th>\n",
              "      <th>inq_last_6mths</th>\n",
              "      <th>open_acc</th>\n",
              "      <th>pub_rec</th>\n",
              "      <th>revol_bal</th>\n",
              "      <th>revol_util</th>\n",
              "      <th>total_acc</th>\n",
              "      <th>initial_list_status</th>\n",
              "      <th>out_prncp</th>\n",
              "      <th>out_prncp_inv</th>\n",
              "      <th>total_pymnt</th>\n",
              "      <th>total_pymnt_inv</th>\n",
              "      <th>total_rec_prncp</th>\n",
              "      <th>total_rec_int</th>\n",
              "      <th>total_rec_late_fee</th>\n",
              "      <th>recoveries</th>\n",
              "      <th>collection_recovery_fee</th>\n",
              "      <th>last_pymnt_d</th>\n",
              "      <th>last_pymnt_amnt</th>\n",
              "      <th>...</th>\n",
              "      <th>total_rev_hi_lim</th>\n",
              "      <th>inq_fi</th>\n",
              "      <th>total_cu_tl</th>\n",
              "      <th>inq_last_12m</th>\n",
              "      <th>acc_open_past_24mths</th>\n",
              "      <th>avg_cur_bal</th>\n",
              "      <th>bc_open_to_buy</th>\n",
              "      <th>bc_util</th>\n",
              "      <th>chargeoff_within_12_mths</th>\n",
              "      <th>delinq_amnt</th>\n",
              "      <th>mo_sin_old_il_acct</th>\n",
              "      <th>mo_sin_old_rev_tl_op</th>\n",
              "      <th>mo_sin_rcnt_rev_tl_op</th>\n",
              "      <th>mo_sin_rcnt_tl</th>\n",
              "      <th>mort_acc</th>\n",
              "      <th>mths_since_recent_bc</th>\n",
              "      <th>num_accts_ever_120_pd</th>\n",
              "      <th>num_actv_bc_tl</th>\n",
              "      <th>num_actv_rev_tl</th>\n",
              "      <th>num_bc_sats</th>\n",
              "      <th>num_bc_tl</th>\n",
              "      <th>num_il_tl</th>\n",
              "      <th>num_op_rev_tl</th>\n",
              "      <th>num_rev_accts</th>\n",
              "      <th>num_rev_tl_bal_gt_0</th>\n",
              "      <th>num_sats</th>\n",
              "      <th>num_tl_120dpd_2m</th>\n",
              "      <th>num_tl_30dpd</th>\n",
              "      <th>num_tl_90g_dpd_24m</th>\n",
              "      <th>num_tl_op_past_12m</th>\n",
              "      <th>pct_tl_nvr_dlq</th>\n",
              "      <th>percent_bc_gt_75</th>\n",
              "      <th>pub_rec_bankruptcies</th>\n",
              "      <th>tax_liens</th>\n",
              "      <th>tot_hi_cred_lim</th>\n",
              "      <th>total_bal_ex_mort</th>\n",
              "      <th>total_bc_limit</th>\n",
              "      <th>total_il_high_credit_limit</th>\n",
              "      <th>hardship_flag</th>\n",
              "      <th>debt_settlement_flag</th>\n",
              "    </tr>\n",
              "  </thead>\n",
              "  <tbody>\n",
              "    <tr>\n",
              "      <th>0</th>\n",
              "      <td>10000.0</td>\n",
              "      <td>10000.0</td>\n",
              "      <td>10000.0</td>\n",
              "      <td>36 months</td>\n",
              "      <td>6.99%</td>\n",
              "      <td>308.73</td>\n",
              "      <td>A</td>\n",
              "      <td>A2</td>\n",
              "      <td>2 years</td>\n",
              "      <td>RENT</td>\n",
              "      <td>135000.0</td>\n",
              "      <td>Verified</td>\n",
              "      <td>Jun-16</td>\n",
              "      <td>Fully Paid</td>\n",
              "      <td>n</td>\n",
              "      <td>credit_card</td>\n",
              "      <td>Credit card refinancing</td>\n",
              "      <td>112xx</td>\n",
              "      <td>NY</td>\n",
              "      <td>7.61</td>\n",
              "      <td>0.0</td>\n",
              "      <td>Nov-06</td>\n",
              "      <td>2.0</td>\n",
              "      <td>7.0</td>\n",
              "      <td>0.0</td>\n",
              "      <td>11943.0</td>\n",
              "      <td>30.1%</td>\n",
              "      <td>13.0</td>\n",
              "      <td>f</td>\n",
              "      <td>0.0</td>\n",
              "      <td>0.0</td>\n",
              "      <td>11104.380326</td>\n",
              "      <td>11104.38</td>\n",
              "      <td>10000.0</td>\n",
              "      <td>1104.38</td>\n",
              "      <td>0.0</td>\n",
              "      <td>0.0</td>\n",
              "      <td>0.0</td>\n",
              "      <td>Jul-19</td>\n",
              "      <td>308.54</td>\n",
              "      <td>...</td>\n",
              "      <td>39700.0</td>\n",
              "      <td>2.0</td>\n",
              "      <td>0.0</td>\n",
              "      <td>6.0</td>\n",
              "      <td>2.0</td>\n",
              "      <td>6995.0</td>\n",
              "      <td>26261.0</td>\n",
              "      <td>31.3</td>\n",
              "      <td>0.0</td>\n",
              "      <td>0.0</td>\n",
              "      <td>57.0</td>\n",
              "      <td>115.0</td>\n",
              "      <td>23.0</td>\n",
              "      <td>3.0</td>\n",
              "      <td>0.0</td>\n",
              "      <td>23.0</td>\n",
              "      <td>0.0</td>\n",
              "      <td>4.0</td>\n",
              "      <td>5.0</td>\n",
              "      <td>4.0</td>\n",
              "      <td>5.0</td>\n",
              "      <td>3.0</td>\n",
              "      <td>5.0</td>\n",
              "      <td>9.0</td>\n",
              "      <td>5.0</td>\n",
              "      <td>7.0</td>\n",
              "      <td>0.0</td>\n",
              "      <td>0.0</td>\n",
              "      <td>0.0</td>\n",
              "      <td>1.0</td>\n",
              "      <td>100.0</td>\n",
              "      <td>0.0</td>\n",
              "      <td>0.0</td>\n",
              "      <td>0.0</td>\n",
              "      <td>77778.0</td>\n",
              "      <td>48962.0</td>\n",
              "      <td>38200.0</td>\n",
              "      <td>37246.0</td>\n",
              "      <td>N</td>\n",
              "      <td>N</td>\n",
              "    </tr>\n",
              "    <tr>\n",
              "      <th>1</th>\n",
              "      <td>9600.0</td>\n",
              "      <td>9600.0</td>\n",
              "      <td>9600.0</td>\n",
              "      <td>36 months</td>\n",
              "      <td>15.59%</td>\n",
              "      <td>335.57</td>\n",
              "      <td>C</td>\n",
              "      <td>C5</td>\n",
              "      <td>5 years</td>\n",
              "      <td>RENT</td>\n",
              "      <td>50000.0</td>\n",
              "      <td>Verified</td>\n",
              "      <td>Jun-16</td>\n",
              "      <td>Fully Paid</td>\n",
              "      <td>n</td>\n",
              "      <td>debt_consolidation</td>\n",
              "      <td>Debt consolidation</td>\n",
              "      <td>444xx</td>\n",
              "      <td>OH</td>\n",
              "      <td>24.03</td>\n",
              "      <td>0.0</td>\n",
              "      <td>Dec-03</td>\n",
              "      <td>0.0</td>\n",
              "      <td>11.0</td>\n",
              "      <td>4.0</td>\n",
              "      <td>9804.0</td>\n",
              "      <td>33.8%</td>\n",
              "      <td>23.0</td>\n",
              "      <td>f</td>\n",
              "      <td>0.0</td>\n",
              "      <td>0.0</td>\n",
              "      <td>11475.059012</td>\n",
              "      <td>11475.06</td>\n",
              "      <td>9600.0</td>\n",
              "      <td>1875.06</td>\n",
              "      <td>0.0</td>\n",
              "      <td>0.0</td>\n",
              "      <td>0.0</td>\n",
              "      <td>Mar-18</td>\n",
              "      <td>739.02</td>\n",
              "      <td>...</td>\n",
              "      <td>29000.0</td>\n",
              "      <td>0.0</td>\n",
              "      <td>1.0</td>\n",
              "      <td>2.0</td>\n",
              "      <td>6.0</td>\n",
              "      <td>2603.0</td>\n",
              "      <td>13774.0</td>\n",
              "      <td>35.9</td>\n",
              "      <td>0.0</td>\n",
              "      <td>0.0</td>\n",
              "      <td>133.0</td>\n",
              "      <td>150.0</td>\n",
              "      <td>7.0</td>\n",
              "      <td>7.0</td>\n",
              "      <td>1.0</td>\n",
              "      <td>7.0</td>\n",
              "      <td>0.0</td>\n",
              "      <td>6.0</td>\n",
              "      <td>7.0</td>\n",
              "      <td>6.0</td>\n",
              "      <td>7.0</td>\n",
              "      <td>10.0</td>\n",
              "      <td>8.0</td>\n",
              "      <td>11.0</td>\n",
              "      <td>7.0</td>\n",
              "      <td>11.0</td>\n",
              "      <td>0.0</td>\n",
              "      <td>0.0</td>\n",
              "      <td>0.0</td>\n",
              "      <td>2.0</td>\n",
              "      <td>100.0</td>\n",
              "      <td>0.0</td>\n",
              "      <td>4.0</td>\n",
              "      <td>0.0</td>\n",
              "      <td>56024.0</td>\n",
              "      <td>28637.0</td>\n",
              "      <td>21500.0</td>\n",
              "      <td>27024.0</td>\n",
              "      <td>N</td>\n",
              "      <td>N</td>\n",
              "    </tr>\n",
              "    <tr>\n",
              "      <th>2</th>\n",
              "      <td>3600.0</td>\n",
              "      <td>3600.0</td>\n",
              "      <td>3600.0</td>\n",
              "      <td>36 months</td>\n",
              "      <td>13.99%</td>\n",
              "      <td>123.03</td>\n",
              "      <td>C</td>\n",
              "      <td>C3</td>\n",
              "      <td>10+ years</td>\n",
              "      <td>MORTGAGE</td>\n",
              "      <td>35000.0</td>\n",
              "      <td>Verified</td>\n",
              "      <td>Jun-16</td>\n",
              "      <td>Fully Paid</td>\n",
              "      <td>n</td>\n",
              "      <td>debt_consolidation</td>\n",
              "      <td>Debt consolidation</td>\n",
              "      <td>652xx</td>\n",
              "      <td>MO</td>\n",
              "      <td>25.38</td>\n",
              "      <td>0.0</td>\n",
              "      <td>Aug-00</td>\n",
              "      <td>0.0</td>\n",
              "      <td>13.0</td>\n",
              "      <td>0.0</td>\n",
              "      <td>10980.0</td>\n",
              "      <td>63.1%</td>\n",
              "      <td>29.0</td>\n",
              "      <td>w</td>\n",
              "      <td>0.0</td>\n",
              "      <td>0.0</td>\n",
              "      <td>4420.122545</td>\n",
              "      <td>4420.12</td>\n",
              "      <td>3600.0</td>\n",
              "      <td>820.12</td>\n",
              "      <td>0.0</td>\n",
              "      <td>0.0</td>\n",
              "      <td>0.0</td>\n",
              "      <td>Apr-19</td>\n",
              "      <td>367.13</td>\n",
              "      <td>...</td>\n",
              "      <td>17400.0</td>\n",
              "      <td>1.0</td>\n",
              "      <td>2.0</td>\n",
              "      <td>1.0</td>\n",
              "      <td>7.0</td>\n",
              "      <td>11911.0</td>\n",
              "      <td>2487.0</td>\n",
              "      <td>79.8</td>\n",
              "      <td>0.0</td>\n",
              "      <td>0.0</td>\n",
              "      <td>149.0</td>\n",
              "      <td>190.0</td>\n",
              "      <td>2.0</td>\n",
              "      <td>2.0</td>\n",
              "      <td>1.0</td>\n",
              "      <td>3.0</td>\n",
              "      <td>1.0</td>\n",
              "      <td>6.0</td>\n",
              "      <td>9.0</td>\n",
              "      <td>6.0</td>\n",
              "      <td>9.0</td>\n",
              "      <td>14.0</td>\n",
              "      <td>10.0</td>\n",
              "      <td>14.0</td>\n",
              "      <td>9.0</td>\n",
              "      <td>13.0</td>\n",
              "      <td>0.0</td>\n",
              "      <td>0.0</td>\n",
              "      <td>0.0</td>\n",
              "      <td>4.0</td>\n",
              "      <td>96.6</td>\n",
              "      <td>66.7</td>\n",
              "      <td>0.0</td>\n",
              "      <td>0.0</td>\n",
              "      <td>166286.0</td>\n",
              "      <td>75309.0</td>\n",
              "      <td>12300.0</td>\n",
              "      <td>63416.0</td>\n",
              "      <td>N</td>\n",
              "      <td>N</td>\n",
              "    </tr>\n",
              "    <tr>\n",
              "      <th>3</th>\n",
              "      <td>10000.0</td>\n",
              "      <td>10000.0</td>\n",
              "      <td>10000.0</td>\n",
              "      <td>60 months</td>\n",
              "      <td>13.49%</td>\n",
              "      <td>230.05</td>\n",
              "      <td>C</td>\n",
              "      <td>C2</td>\n",
              "      <td>3 years</td>\n",
              "      <td>RENT</td>\n",
              "      <td>32000.0</td>\n",
              "      <td>Not Verified</td>\n",
              "      <td>Jun-16</td>\n",
              "      <td>Fully Paid</td>\n",
              "      <td>n</td>\n",
              "      <td>debt_consolidation</td>\n",
              "      <td>Debt consolidation</td>\n",
              "      <td>447xx</td>\n",
              "      <td>OH</td>\n",
              "      <td>13.05</td>\n",
              "      <td>0.0</td>\n",
              "      <td>Apr-99</td>\n",
              "      <td>1.0</td>\n",
              "      <td>5.0</td>\n",
              "      <td>0.0</td>\n",
              "      <td>16525.0</td>\n",
              "      <td>47.3%</td>\n",
              "      <td>10.0</td>\n",
              "      <td>w</td>\n",
              "      <td>0.0</td>\n",
              "      <td>0.0</td>\n",
              "      <td>10356.270252</td>\n",
              "      <td>10356.27</td>\n",
              "      <td>10000.0</td>\n",
              "      <td>356.27</td>\n",
              "      <td>0.0</td>\n",
              "      <td>0.0</td>\n",
              "      <td>0.0</td>\n",
              "      <td>Oct-17</td>\n",
              "      <td>454.31</td>\n",
              "      <td>...</td>\n",
              "      <td>34900.0</td>\n",
              "      <td>1.0</td>\n",
              "      <td>0.0</td>\n",
              "      <td>1.0</td>\n",
              "      <td>0.0</td>\n",
              "      <td>22480.0</td>\n",
              "      <td>18375.0</td>\n",
              "      <td>47.3</td>\n",
              "      <td>0.0</td>\n",
              "      <td>0.0</td>\n",
              "      <td>94.0</td>\n",
              "      <td>206.0</td>\n",
              "      <td>84.0</td>\n",
              "      <td>67.0</td>\n",
              "      <td>1.0</td>\n",
              "      <td>84.0</td>\n",
              "      <td>0.0</td>\n",
              "      <td>2.0</td>\n",
              "      <td>2.0</td>\n",
              "      <td>4.0</td>\n",
              "      <td>7.0</td>\n",
              "      <td>2.0</td>\n",
              "      <td>4.0</td>\n",
              "      <td>7.0</td>\n",
              "      <td>2.0</td>\n",
              "      <td>5.0</td>\n",
              "      <td>0.0</td>\n",
              "      <td>0.0</td>\n",
              "      <td>0.0</td>\n",
              "      <td>0.0</td>\n",
              "      <td>100.0</td>\n",
              "      <td>50.0</td>\n",
              "      <td>0.0</td>\n",
              "      <td>0.0</td>\n",
              "      <td>141464.0</td>\n",
              "      <td>16525.0</td>\n",
              "      <td>34900.0</td>\n",
              "      <td>0.0</td>\n",
              "      <td>N</td>\n",
              "      <td>N</td>\n",
              "    </tr>\n",
              "    <tr>\n",
              "      <th>4</th>\n",
              "      <td>4900.0</td>\n",
              "      <td>4900.0</td>\n",
              "      <td>4900.0</td>\n",
              "      <td>36 months</td>\n",
              "      <td>10.99%</td>\n",
              "      <td>160.40</td>\n",
              "      <td>B</td>\n",
              "      <td>B4</td>\n",
              "      <td>&lt; 1 year</td>\n",
              "      <td>MORTGAGE</td>\n",
              "      <td>120000.0</td>\n",
              "      <td>Verified</td>\n",
              "      <td>Jun-16</td>\n",
              "      <td>Fully Paid</td>\n",
              "      <td>n</td>\n",
              "      <td>home_improvement</td>\n",
              "      <td>Home improvement</td>\n",
              "      <td>770xx</td>\n",
              "      <td>TX</td>\n",
              "      <td>6.07</td>\n",
              "      <td>0.0</td>\n",
              "      <td>Mar-03</td>\n",
              "      <td>0.0</td>\n",
              "      <td>5.0</td>\n",
              "      <td>0.0</td>\n",
              "      <td>7244.0</td>\n",
              "      <td>80.5%</td>\n",
              "      <td>8.0</td>\n",
              "      <td>f</td>\n",
              "      <td>0.0</td>\n",
              "      <td>0.0</td>\n",
              "      <td>5766.771977</td>\n",
              "      <td>5766.77</td>\n",
              "      <td>4900.0</td>\n",
              "      <td>866.77</td>\n",
              "      <td>0.0</td>\n",
              "      <td>0.0</td>\n",
              "      <td>0.0</td>\n",
              "      <td>Jul-19</td>\n",
              "      <td>160.25</td>\n",
              "      <td>...</td>\n",
              "      <td>9000.0</td>\n",
              "      <td>0.0</td>\n",
              "      <td>0.0</td>\n",
              "      <td>0.0</td>\n",
              "      <td>1.0</td>\n",
              "      <td>30361.0</td>\n",
              "      <td>1756.0</td>\n",
              "      <td>80.5</td>\n",
              "      <td>0.0</td>\n",
              "      <td>0.0</td>\n",
              "      <td>159.0</td>\n",
              "      <td>34.0</td>\n",
              "      <td>5.0</td>\n",
              "      <td>5.0</td>\n",
              "      <td>1.0</td>\n",
              "      <td>5.0</td>\n",
              "      <td>1.0</td>\n",
              "      <td>2.0</td>\n",
              "      <td>2.0</td>\n",
              "      <td>2.0</td>\n",
              "      <td>2.0</td>\n",
              "      <td>5.0</td>\n",
              "      <td>2.0</td>\n",
              "      <td>2.0</td>\n",
              "      <td>2.0</td>\n",
              "      <td>5.0</td>\n",
              "      <td>0.0</td>\n",
              "      <td>0.0</td>\n",
              "      <td>0.0</td>\n",
              "      <td>1.0</td>\n",
              "      <td>62.5</td>\n",
              "      <td>50.0</td>\n",
              "      <td>0.0</td>\n",
              "      <td>0.0</td>\n",
              "      <td>183092.0</td>\n",
              "      <td>27884.0</td>\n",
              "      <td>9000.0</td>\n",
              "      <td>31515.0</td>\n",
              "      <td>N</td>\n",
              "      <td>N</td>\n",
              "    </tr>\n",
              "  </tbody>\n",
              "</table>\n",
              "<p>5 rows × 97 columns</p>\n",
              "</div>"
            ],
            "text/plain": [
              "   loan_amnt  funded_amnt  ...  hardship_flag debt_settlement_flag\n",
              "0    10000.0      10000.0  ...              N                    N\n",
              "1     9600.0       9600.0  ...              N                    N\n",
              "2     3600.0       3600.0  ...              N                    N\n",
              "3    10000.0      10000.0  ...              N                    N\n",
              "4     4900.0       4900.0  ...              N                    N\n",
              "\n",
              "[5 rows x 97 columns]"
            ]
          },
          "metadata": {
            "tags": []
          },
          "execution_count": 64
        }
      ]
    },
    {
      "cell_type": "markdown",
      "metadata": {
        "id": "4RMOTEHg8Cbg"
      },
      "source": [
        "The variety in the dataset is still kept and not compromised after the missing values have been removed."
      ]
    },
    {
      "cell_type": "code",
      "metadata": {
        "colab": {
          "base_uri": "https://localhost:8080/"
        },
        "id": "6tdOdXKg7hGX",
        "outputId": "e7463276-610c-4e19-c0b6-f7e833a829d1"
      },
      "source": [
        "Loan_df.info(verbose=True)"
      ],
      "execution_count": null,
      "outputs": [
        {
          "output_type": "stream",
          "text": [
            "<class 'pandas.core.frame.DataFrame'>\n",
            "Int64Index: 1731381 entries, 0 to 105015\n",
            "Data columns (total 97 columns):\n",
            " #   Column                      Dtype  \n",
            "---  ------                      -----  \n",
            " 0   loan_amnt                   float64\n",
            " 1   funded_amnt                 float64\n",
            " 2   funded_amnt_inv             float64\n",
            " 3   term                        object \n",
            " 4   int_rate                    object \n",
            " 5   installment                 float64\n",
            " 6   grade                       object \n",
            " 7   sub_grade                   object \n",
            " 8   emp_length                  object \n",
            " 9   home_ownership              object \n",
            " 10  annual_inc                  float64\n",
            " 11  verification_status         object \n",
            " 12  issue_d                     object \n",
            " 13  loan_status                 object \n",
            " 14  pymnt_plan                  object \n",
            " 15  purpose                     object \n",
            " 16  title                       object \n",
            " 17  zip_code                    object \n",
            " 18  addr_state                  object \n",
            " 19  dti                         float64\n",
            " 20  delinq_2yrs                 float64\n",
            " 21  earliest_cr_line            object \n",
            " 22  inq_last_6mths              float64\n",
            " 23  open_acc                    float64\n",
            " 24  pub_rec                     float64\n",
            " 25  revol_bal                   float64\n",
            " 26  revol_util                  object \n",
            " 27  total_acc                   float64\n",
            " 28  initial_list_status         object \n",
            " 29  out_prncp                   float64\n",
            " 30  out_prncp_inv               float64\n",
            " 31  total_pymnt                 float64\n",
            " 32  total_pymnt_inv             float64\n",
            " 33  total_rec_prncp             float64\n",
            " 34  total_rec_int               float64\n",
            " 35  total_rec_late_fee          float64\n",
            " 36  recoveries                  float64\n",
            " 37  collection_recovery_fee     float64\n",
            " 38  last_pymnt_d                object \n",
            " 39  last_pymnt_amnt             float64\n",
            " 40  last_credit_pull_d          object \n",
            " 41  collections_12_mths_ex_med  float64\n",
            " 42  policy_code                 float64\n",
            " 43  application_type            object \n",
            " 44  acc_now_delinq              float64\n",
            " 45  tot_coll_amt                float64\n",
            " 46  tot_cur_bal                 float64\n",
            " 47  open_acc_6m                 float64\n",
            " 48  open_act_il                 float64\n",
            " 49  open_il_12m                 float64\n",
            " 50  open_il_24m                 float64\n",
            " 51  mths_since_rcnt_il          float64\n",
            " 52  total_bal_il                float64\n",
            " 53  open_rv_12m                 float64\n",
            " 54  open_rv_24m                 float64\n",
            " 55  max_bal_bc                  float64\n",
            " 56  all_util                    float64\n",
            " 57  total_rev_hi_lim            float64\n",
            " 58  inq_fi                      float64\n",
            " 59  total_cu_tl                 float64\n",
            " 60  inq_last_12m                float64\n",
            " 61  acc_open_past_24mths        float64\n",
            " 62  avg_cur_bal                 float64\n",
            " 63  bc_open_to_buy              float64\n",
            " 64  bc_util                     float64\n",
            " 65  chargeoff_within_12_mths    float64\n",
            " 66  delinq_amnt                 float64\n",
            " 67  mo_sin_old_il_acct          float64\n",
            " 68  mo_sin_old_rev_tl_op        float64\n",
            " 69  mo_sin_rcnt_rev_tl_op       float64\n",
            " 70  mo_sin_rcnt_tl              float64\n",
            " 71  mort_acc                    float64\n",
            " 72  mths_since_recent_bc        float64\n",
            " 73  num_accts_ever_120_pd       float64\n",
            " 74  num_actv_bc_tl              float64\n",
            " 75  num_actv_rev_tl             float64\n",
            " 76  num_bc_sats                 float64\n",
            " 77  num_bc_tl                   float64\n",
            " 78  num_il_tl                   float64\n",
            " 79  num_op_rev_tl               float64\n",
            " 80  num_rev_accts               float64\n",
            " 81  num_rev_tl_bal_gt_0         float64\n",
            " 82  num_sats                    float64\n",
            " 83  num_tl_120dpd_2m            float64\n",
            " 84  num_tl_30dpd                float64\n",
            " 85  num_tl_90g_dpd_24m          float64\n",
            " 86  num_tl_op_past_12m          float64\n",
            " 87  pct_tl_nvr_dlq              float64\n",
            " 88  percent_bc_gt_75            float64\n",
            " 89  pub_rec_bankruptcies        float64\n",
            " 90  tax_liens                   float64\n",
            " 91  tot_hi_cred_lim             float64\n",
            " 92  total_bal_ex_mort           float64\n",
            " 93  total_bc_limit              float64\n",
            " 94  total_il_high_credit_limit  float64\n",
            " 95  hardship_flag               object \n",
            " 96  debt_settlement_flag        object \n",
            "dtypes: float64(75), object(22)\n",
            "memory usage: 1.3+ GB\n"
          ],
          "name": "stdout"
        }
      ]
    },
    {
      "cell_type": "markdown",
      "metadata": {
        "id": "OOwJzx3d8OwO"
      },
      "source": [
        "Based on the value we would like to extract from the data we summarise the data using the useful columns to us.\n",
        "\n",
        "examples of some of the values we would like to extract.\n",
        "\n",
        "- Loan amount: will be able to identfy how much value we processed.\n",
        "- term- helps us is our quest in understanding our customer segments and how much we can keep in reserves based on the most term taken by customers.\n",
        "- int_rate, grade and Loan status: Help us to identfy our and manage any risk.\n",
        "-state: distribution of our customers and where we should locate ourself"
      ]
    },
    {
      "cell_type": "code",
      "metadata": {
        "id": "sWu1JdVeKiRp"
      },
      "source": [
        "col_keep=['loan_amnt','funded_amnt','funded_amnt_inv','term','int_rate','installment','grade','emp_length','home_ownership','annual_inc','verification_status','issue_d','loan_status','dti','open_acc','total_acc','application_type','pub_rec_bankruptcies','tax_liens','addr_state']"
      ],
      "execution_count": null,
      "outputs": []
    },
    {
      "cell_type": "code",
      "metadata": {
        "id": "CtoGfwM5LqSf"
      },
      "source": [
        "df=Loan_df[col_keep]"
      ],
      "execution_count": null,
      "outputs": []
    },
    {
      "cell_type": "code",
      "metadata": {
        "colab": {
          "base_uri": "https://localhost:8080/",
          "height": 317
        },
        "id": "RqPSoFfFObO9",
        "outputId": "b10ae510-c352-43ca-ddba-61243814bab5"
      },
      "source": [
        "df.describe()"
      ],
      "execution_count": null,
      "outputs": [
        {
          "output_type": "execute_result",
          "data": {
            "text/html": [
              "<div>\n",
              "<style scoped>\n",
              "    .dataframe tbody tr th:only-of-type {\n",
              "        vertical-align: middle;\n",
              "    }\n",
              "\n",
              "    .dataframe tbody tr th {\n",
              "        vertical-align: top;\n",
              "    }\n",
              "\n",
              "    .dataframe thead th {\n",
              "        text-align: right;\n",
              "    }\n",
              "</style>\n",
              "<table border=\"1\" class=\"dataframe\">\n",
              "  <thead>\n",
              "    <tr style=\"text-align: right;\">\n",
              "      <th></th>\n",
              "      <th>loan_amnt</th>\n",
              "      <th>funded_amnt</th>\n",
              "      <th>funded_amnt_inv</th>\n",
              "      <th>installment</th>\n",
              "      <th>annual_inc</th>\n",
              "      <th>dti</th>\n",
              "      <th>open_acc</th>\n",
              "      <th>total_acc</th>\n",
              "      <th>pub_rec_bankruptcies</th>\n",
              "      <th>tax_liens</th>\n",
              "    </tr>\n",
              "  </thead>\n",
              "  <tbody>\n",
              "    <tr>\n",
              "      <th>count</th>\n",
              "      <td>1.731321e+06</td>\n",
              "      <td>1.731321e+06</td>\n",
              "      <td>1.731321e+06</td>\n",
              "      <td>1.731321e+06</td>\n",
              "      <td>1.731205e+06</td>\n",
              "      <td>1.728486e+06</td>\n",
              "      <td>1.731203e+06</td>\n",
              "      <td>1.731203e+06</td>\n",
              "      <td>1.731203e+06</td>\n",
              "      <td>1.731203e+06</td>\n",
              "    </tr>\n",
              "    <tr>\n",
              "      <th>mean</th>\n",
              "      <td>1.557253e+04</td>\n",
              "      <td>1.557252e+04</td>\n",
              "      <td>1.556881e+04</td>\n",
              "      <td>4.581102e+02</td>\n",
              "      <td>8.167047e+04</td>\n",
              "      <td>1.972609e+01</td>\n",
              "      <td>1.167086e+01</td>\n",
              "      <td>2.328535e+01</td>\n",
              "      <td>1.258085e-01</td>\n",
              "      <td>3.074741e-02</td>\n",
              "    </tr>\n",
              "    <tr>\n",
              "      <th>std</th>\n",
              "      <td>9.923425e+03</td>\n",
              "      <td>9.923426e+03</td>\n",
              "      <td>9.922559e+03</td>\n",
              "      <td>2.854913e+02</td>\n",
              "      <td>1.310593e+05</td>\n",
              "      <td>1.832581e+01</td>\n",
              "      <td>5.899071e+00</td>\n",
              "      <td>1.210885e+01</td>\n",
              "      <td>3.516635e-01</td>\n",
              "      <td>3.039017e-01</td>\n",
              "    </tr>\n",
              "    <tr>\n",
              "      <th>min</th>\n",
              "      <td>1.000000e+03</td>\n",
              "      <td>1.000000e+03</td>\n",
              "      <td>7.250000e+02</td>\n",
              "      <td>7.610000e+00</td>\n",
              "      <td>0.000000e+00</td>\n",
              "      <td>-1.000000e+00</td>\n",
              "      <td>0.000000e+00</td>\n",
              "      <td>2.000000e+00</td>\n",
              "      <td>0.000000e+00</td>\n",
              "      <td>0.000000e+00</td>\n",
              "    </tr>\n",
              "    <tr>\n",
              "      <th>25%</th>\n",
              "      <td>8.000000e+03</td>\n",
              "      <td>8.000000e+03</td>\n",
              "      <td>8.000000e+03</td>\n",
              "      <td>2.484500e+02</td>\n",
              "      <td>4.800000e+04</td>\n",
              "      <td>1.207000e+01</td>\n",
              "      <td>8.000000e+00</td>\n",
              "      <td>1.400000e+01</td>\n",
              "      <td>0.000000e+00</td>\n",
              "      <td>0.000000e+00</td>\n",
              "    </tr>\n",
              "    <tr>\n",
              "      <th>50%</th>\n",
              "      <td>1.300000e+04</td>\n",
              "      <td>1.300000e+04</td>\n",
              "      <td>1.300000e+04</td>\n",
              "      <td>3.805400e+02</td>\n",
              "      <td>6.800000e+04</td>\n",
              "      <td>1.821000e+01</td>\n",
              "      <td>1.100000e+01</td>\n",
              "      <td>2.100000e+01</td>\n",
              "      <td>0.000000e+00</td>\n",
              "      <td>0.000000e+00</td>\n",
              "    </tr>\n",
              "    <tr>\n",
              "      <th>75%</th>\n",
              "      <td>2.100000e+04</td>\n",
              "      <td>2.100000e+04</td>\n",
              "      <td>2.100000e+04</td>\n",
              "      <td>6.177300e+02</td>\n",
              "      <td>9.800000e+04</td>\n",
              "      <td>2.521000e+01</td>\n",
              "      <td>1.500000e+01</td>\n",
              "      <td>3.000000e+01</td>\n",
              "      <td>0.000000e+00</td>\n",
              "      <td>0.000000e+00</td>\n",
              "    </tr>\n",
              "    <tr>\n",
              "      <th>max</th>\n",
              "      <td>4.000000e+04</td>\n",
              "      <td>4.000000e+04</td>\n",
              "      <td>4.000000e+04</td>\n",
              "      <td>1.719830e+03</td>\n",
              "      <td>1.100000e+08</td>\n",
              "      <td>9.990000e+02</td>\n",
              "      <td>1.040000e+02</td>\n",
              "      <td>1.730000e+02</td>\n",
              "      <td>8.000000e+00</td>\n",
              "      <td>6.100000e+01</td>\n",
              "    </tr>\n",
              "  </tbody>\n",
              "</table>\n",
              "</div>"
            ],
            "text/plain": [
              "          loan_amnt   funded_amnt  ...  pub_rec_bankruptcies     tax_liens\n",
              "count  1.731321e+06  1.731321e+06  ...          1.731203e+06  1.731203e+06\n",
              "mean   1.557253e+04  1.557252e+04  ...          1.258085e-01  3.074741e-02\n",
              "std    9.923425e+03  9.923426e+03  ...          3.516635e-01  3.039017e-01\n",
              "min    1.000000e+03  1.000000e+03  ...          0.000000e+00  0.000000e+00\n",
              "25%    8.000000e+03  8.000000e+03  ...          0.000000e+00  0.000000e+00\n",
              "50%    1.300000e+04  1.300000e+04  ...          0.000000e+00  0.000000e+00\n",
              "75%    2.100000e+04  2.100000e+04  ...          0.000000e+00  0.000000e+00\n",
              "max    4.000000e+04  4.000000e+04  ...          8.000000e+00  6.100000e+01\n",
              "\n",
              "[8 rows x 10 columns]"
            ]
          },
          "metadata": {
            "tags": []
          },
          "execution_count": 67
        }
      ]
    },
    {
      "cell_type": "markdown",
      "metadata": {
        "id": "qK0ihKbg4fu5"
      },
      "source": [
        "## 1B."
      ]
    },
    {
      "cell_type": "markdown",
      "metadata": {
        "id": "n5u1zx0n9jtr"
      },
      "source": [
        "Since the data that we have to process is of large volumes we need to install and have the right tools to efficiently process our data\n",
        "\n",
        "*   As will be seen below we use dask for distributed processing where clusters are created to preocess our data. Due to limitations the meomory limit is only 4gb, but ideally should be more with more workers to.\n",
        "*   Use Spark to process our machine learning usecases.\n",
        "* We working on a local device that has 16gb of memory and 1TB of storage.\n",
        "* Lastly, hadoop is required to be able to extract dome of the value from the data and we require visualization tool tableu.\n",
        "\n"
      ]
    },
    {
      "cell_type": "code",
      "metadata": {
        "colab": {
          "base_uri": "https://localhost:8080/",
          "height": 332
        },
        "id": "WUHeS_mr2h4S",
        "outputId": "4800b61d-1eaa-49b4-eb9a-15490dafcc31"
      },
      "source": [
        "from dask.distributed import Client, progress\n",
        "client = Client(processes=False, threads_per_worker=4,\n",
        "                n_workers=1, memory_limit='4GB')\n",
        "client"
      ],
      "execution_count": null,
      "outputs": [
        {
          "output_type": "stream",
          "text": [
            "/usr/local/lib/python3.6/dist-packages/distributed/bokeh/core.py:57: UserWarning: \n",
            "Failed to start diagnostics server on port 8787. [Errno 99] Cannot assign requested address\n",
            "  warnings.warn('\\n' + msg)\n",
            "/usr/local/lib/python3.6/dist-packages/distributed/deploy/local.py:197: UserWarning: \n",
            "Could not launch service 'bokeh' on port 8787. Got the following message:\n",
            "\n",
            "[Errno 99] Cannot assign requested address\n",
            "  self.scheduler.start(scheduler_address)\n"
          ],
          "name": "stderr"
        },
        {
          "output_type": "execute_result",
          "data": {
            "text/html": [
              "<table style=\"border: 2px solid white;\">\n",
              "<tr>\n",
              "<td style=\"vertical-align: top; border: 0px solid white\">\n",
              "<h3>Client</h3>\n",
              "<ul>\n",
              "  <li><b>Scheduler: </b>inproc://172.28.0.2/3556/1\n",
              "</ul>\n",
              "</td>\n",
              "<td style=\"vertical-align: top; border: 0px solid white\">\n",
              "<h3>Cluster</h3>\n",
              "<ul>\n",
              "  <li><b>Workers: </b>1</li>\n",
              "  <li><b>Cores: </b>4</li>\n",
              "  <li><b>Memory: </b>4.00 GB</li>\n",
              "</ul>\n",
              "</td>\n",
              "</tr>\n",
              "</table>"
            ],
            "text/plain": [
              "<Client: scheduler='inproc://172.28.0.2/3556/1' processes=1 cores=4>"
            ]
          },
          "metadata": {
            "tags": []
          },
          "execution_count": 41
        },
        {
          "output_type": "stream",
          "text": [
            "distributed.worker - WARNING - Worker is at 128% memory usage. Pausing worker.  Process memory: 5.15 GB -- Worker memory limit: 4.00 GB\n",
            "distributed.worker - WARNING - Memory use is high but worker has no data to store to disk.  Perhaps some other process is leaking memory?  Process memory: 5.15 GB -- Worker memory limit: 4.00 GB\n",
            "distributed.worker - WARNING - Memory use is high but worker has no data to store to disk.  Perhaps some other process is leaking memory?  Process memory: 5.15 GB -- Worker memory limit: 4.00 GB\n"
          ],
          "name": "stderr"
        }
      ]
    },
    {
      "cell_type": "markdown",
      "metadata": {
        "id": "Osg08ETVARLk"
      },
      "source": [
        "## Transformation of data "
      ]
    },
    {
      "cell_type": "markdown",
      "metadata": {
        "id": "rFfPa2dtAweI"
      },
      "source": [
        "We further transform our data to prepare it for machine learning usecases. \n",
        "\n"
      ]
    },
    {
      "cell_type": "markdown",
      "metadata": {
        "id": "Zl_2BmlpBSWY"
      },
      "source": [
        "Reduce the categories of our categorical variables and we encode them such that they are usable for machine learning models."
      ]
    },
    {
      "cell_type": "code",
      "metadata": {
        "colab": {
          "base_uri": "https://localhost:8080/"
        },
        "id": "XKUg3CoPugcY",
        "outputId": "ee060533-7d3a-4ec3-bf3c-6543c93dd203"
      },
      "source": [
        "def C(row):\n",
        "    if(row['emp_length']=='1 year' or row['emp_length']=='2 years' or \n",
        "       row['emp_length']=='4 years' or row['emp_length']=='3 years'):\n",
        "        val=\"1\"\n",
        "    elif(row['emp_length']=='5 years' or row['emp_length']=='6 years' \n",
        "         or row['emp_length']=='7 years' or row['emp_length']=='8 years' or\n",
        "         row['emp_length']=='9 years'):\n",
        "        val=\"2\"\n",
        "    elif(row['emp_length']=='10+ years'):\n",
        "        val='3'\n",
        "    else:\n",
        "        val=\"0\"\n",
        "    return val\n",
        "\n",
        "df['emp_length']=df.apply(C,axis=1)\n",
        "\n",
        "df.emp_length.unique()"
      ],
      "execution_count": null,
      "outputs": [
        {
          "output_type": "stream",
          "text": [
            "/usr/local/lib/python3.6/dist-packages/ipykernel_launcher.py:15: SettingWithCopyWarning: \n",
            "A value is trying to be set on a copy of a slice from a DataFrame.\n",
            "Try using .loc[row_indexer,col_indexer] = value instead\n",
            "\n",
            "See the caveats in the documentation: https://pandas.pydata.org/pandas-docs/stable/user_guide/indexing.html#returning-a-view-versus-a-copy\n",
            "  from ipykernel import kernelapp as app\n"
          ],
          "name": "stderr"
        },
        {
          "output_type": "execute_result",
          "data": {
            "text/plain": [
              "array(['1', '2', '3', '0'], dtype=object)"
            ]
          },
          "metadata": {
            "tags": []
          },
          "execution_count": 68
        }
      ]
    },
    {
      "cell_type": "code",
      "metadata": {
        "colab": {
          "base_uri": "https://localhost:8080/"
        },
        "id": "NA3OFyXKuxdA",
        "outputId": "349aab5c-9025-4717-b44a-2ce8c86772f2"
      },
      "source": [
        "def Ownership(row):\n",
        "    if(row['home_ownership']=='MORTGAGE'):\n",
        "        val=\"0\"\n",
        "    elif(row['home_ownership']=='RENT' or row['home_ownership']=='ANY' \n",
        "         or row['home_ownership']=='NONE'):\n",
        "        val=\"1\"\n",
        "    else:\n",
        "        val=\"2 \"\n",
        "    return val\n",
        "\n",
        "df['home_ownership']=df.apply(Ownership,axis=1)\n",
        "\n",
        "df.home_ownership.unique()"
      ],
      "execution_count": null,
      "outputs": [
        {
          "output_type": "stream",
          "text": [
            "/usr/local/lib/python3.6/dist-packages/ipykernel_launcher.py:11: SettingWithCopyWarning: \n",
            "A value is trying to be set on a copy of a slice from a DataFrame.\n",
            "Try using .loc[row_indexer,col_indexer] = value instead\n",
            "\n",
            "See the caveats in the documentation: https://pandas.pydata.org/pandas-docs/stable/user_guide/indexing.html#returning-a-view-versus-a-copy\n",
            "  # This is added back by InteractiveShellApp.init_path()\n"
          ],
          "name": "stderr"
        },
        {
          "output_type": "execute_result",
          "data": {
            "text/plain": [
              "array(['1', '0', '2 '], dtype=object)"
            ]
          },
          "metadata": {
            "tags": []
          },
          "execution_count": 69
        }
      ]
    },
    {
      "cell_type": "code",
      "metadata": {
        "colab": {
          "base_uri": "https://localhost:8080/"
        },
        "id": "etznVDTXu528",
        "outputId": "37b70e0d-f0b8-4d50-a370-c12e94bc33f3"
      },
      "source": [
        "def Verified(row):\n",
        "    if(row['verification_status']=='Verified' or row['verification_status']=='Source Verified'):\n",
        "        val=\"0\"\n",
        "    else:\n",
        "        val=\"1\"\n",
        "    return val\n",
        "\n",
        "df['verification_status']=df.apply(Verified,axis=1)\n",
        "df.verification_status.unique()"
      ],
      "execution_count": null,
      "outputs": [
        {
          "output_type": "stream",
          "text": [
            "/usr/local/lib/python3.6/dist-packages/ipykernel_launcher.py:8: SettingWithCopyWarning: \n",
            "A value is trying to be set on a copy of a slice from a DataFrame.\n",
            "Try using .loc[row_indexer,col_indexer] = value instead\n",
            "\n",
            "See the caveats in the documentation: https://pandas.pydata.org/pandas-docs/stable/user_guide/indexing.html#returning-a-view-versus-a-copy\n",
            "  \n"
          ],
          "name": "stderr"
        },
        {
          "output_type": "execute_result",
          "data": {
            "text/plain": [
              "array(['0', '1'], dtype=object)"
            ]
          },
          "metadata": {
            "tags": []
          },
          "execution_count": 70
        }
      ]
    },
    {
      "cell_type": "code",
      "metadata": {
        "colab": {
          "base_uri": "https://localhost:8080/"
        },
        "id": "1KopYt1Bu_cA",
        "outputId": "f9eaf9e9-eadb-470d-b19d-a84b8432c169"
      },
      "source": [
        "def LoanStatus(row):\n",
        "    if(row['loan_status']=='Current' or row['loan_status']=='Issued' or row['loan_status']=='Fully Paid'):\n",
        "        val=\"Low Default\"\n",
        "    elif(row['loan_status']=='In Grace Period' or row['loan_status']=='Late (31-120 days)'\n",
        "         or row['loan_status']=='Late (16-30 days)' ):\n",
        "        val='WatchList'\n",
        "    else:\n",
        "        val=\"Default\"\n",
        "    return val\n",
        "\n",
        "df['loan_status']=df.apply(LoanStatus,axis=1)\n",
        "df.loan_status.unique()"
      ],
      "execution_count": null,
      "outputs": [
        {
          "output_type": "stream",
          "text": [
            "/usr/local/lib/python3.6/dist-packages/ipykernel_launcher.py:11: SettingWithCopyWarning: \n",
            "A value is trying to be set on a copy of a slice from a DataFrame.\n",
            "Try using .loc[row_indexer,col_indexer] = value instead\n",
            "\n",
            "See the caveats in the documentation: https://pandas.pydata.org/pandas-docs/stable/user_guide/indexing.html#returning-a-view-versus-a-copy\n",
            "  # This is added back by InteractiveShellApp.init_path()\n"
          ],
          "name": "stderr"
        },
        {
          "output_type": "execute_result",
          "data": {
            "text/plain": [
              "array(['Low Default', 'Default', 'WatchList'], dtype=object)"
            ]
          },
          "metadata": {
            "tags": []
          },
          "execution_count": 71
        }
      ]
    },
    {
      "cell_type": "markdown",
      "metadata": {
        "id": "bnCP_HmFCGYL"
      },
      "source": [
        "Our transformed data is then stored in a HDF5 format. if its stored in csv we will lose some of the data given the restrictions whist HDF5 has no limit and compatible with java."
      ]
    },
    {
      "cell_type": "code",
      "metadata": {
        "id": "oOCdL5wpbmrs"
      },
      "source": [
        "df.to_csv('Loan_df_transformed.csv')"
      ],
      "execution_count": null,
      "outputs": []
    },
    {
      "cell_type": "markdown",
      "metadata": {
        "id": "ekaZaKcICYSz"
      },
      "source": [
        "## Machine Learning Models"
      ]
    },
    {
      "cell_type": "markdown",
      "metadata": {
        "id": "fQnnQ59ILIho"
      },
      "source": [
        "We apply two machine learning models to be able to predict and segment our customers:\n",
        "\n",
        "1. Risk mitigation we train a model that will be able to indicate the probability of a customer defaulting. There are 3 catgeries based on the probability that a customer can be in (Default, No Default and Watchlist). This assist both us and the customers to intervene when we see that a customer in the watchlist is about to default we can create a credit rehabilitation servive or approach the customer to relook at their payment plan.\n",
        "\n",
        "2. Classification: we train a model to determine our customer base whether we have well off (wealthy customers) customers or middle class to lower class based on income earned and debt-to-income ratio."
      ]
    },
    {
      "cell_type": "markdown",
      "metadata": {
        "id": "lTeN6SpMPVm3"
      },
      "source": [
        "To train the model we use the Apache API pyspark to train our model in parrallel jobs."
      ]
    },
    {
      "cell_type": "code",
      "metadata": {
        "id": "DrFsA5EAUfD6"
      },
      "source": [
        "%matplotlib inline\n",
        "import matplotlib.pyplot as plt\n",
        "import datetime\n",
        "\n",
        "from sklearn.metrics import f1_score, recall_score, precision_score\n",
        "import pyspark.sql.functions as F \n",
        "from pyspark.sql.types import IntegerType, DoubleType, DateType,FloatType\n",
        "from pyspark.ml.feature import VectorAssembler, MinMaxScaler\n",
        "from pyspark.ml import Pipeline\n",
        "from pyspark.ml.evaluation import BinaryClassificationEvaluator\n",
        "from pyspark.ml.tuning import ParamGridBuilder, CrossValidator\n",
        "from pyspark.ml.classification import LogisticRegression,DecisionTreeClassifier, GBTClassifier, LinearSVC"
      ],
      "execution_count": null,
      "outputs": []
    },
    {
      "cell_type": "code",
      "metadata": {
        "id": "OCK48Bd1PRiB"
      },
      "source": [
        "from pyspark.context import SparkContext\n",
        "from pyspark.sql.session import SparkSession\n",
        "sc = SparkContext()\n",
        "spark = SparkSession(sc)"
      ],
      "execution_count": null,
      "outputs": []
    },
    {
      "cell_type": "markdown",
      "metadata": {
        "id": "_O62LfZbSXN6"
      },
      "source": [
        "Customer Segmentation "
      ]
    },
    {
      "cell_type": "code",
      "metadata": {
        "id": "vVRQZ1EkQTW4"
      },
      "source": [
        "from pyspark.ml.clustering import KMeans\n",
        "from sklearn import preprocessing"
      ],
      "execution_count": null,
      "outputs": []
    },
    {
      "cell_type": "code",
      "metadata": {
        "colab": {
          "base_uri": "https://localhost:8080/",
          "height": 71
        },
        "id": "Rjjnn3ErUW6y",
        "outputId": "69bd366e-66e0-4150-e21f-1e0b8ac36171"
      },
      "source": [
        "import pixiedust"
      ],
      "execution_count": null,
      "outputs": [
        {
          "output_type": "stream",
          "text": [
            "Pixiedust database opened successfully\n"
          ],
          "name": "stdout"
        },
        {
          "output_type": "display_data",
          "data": {
            "text/html": [
              "\n",
              "        <div style=\"margin:10px\">\n",
              "            <a href=\"https://github.com/ibm-watson-data-lab/pixiedust\" target=\"_new\">\n",
              "                <img src=\"https://github.com/ibm-watson-data-lab/pixiedust/raw/master/docs/_static/pd_icon32.png\" style=\"float:left;margin-right:10px\"/>\n",
              "            </a>\n",
              "            <span>Pixiedust version 1.1.18</span>\n",
              "        </div>\n",
              "        "
            ],
            "text/plain": [
              "<IPython.core.display.HTML object>"
            ]
          },
          "metadata": {
            "tags": []
          }
        }
      ]
    },
    {
      "cell_type": "code",
      "metadata": {
        "colab": {
          "base_uri": "https://localhost:8080/"
        },
        "id": "B5c2rT1cSjvw",
        "outputId": "c27a90a8-0ab2-4185-c2e6-ba332bca0793"
      },
      "source": [
        "lines=sc.textFile('/content/Loan_df_transformed.csv')\n",
        "data=lines.map(lambda line:line.split(\",\"))\n",
        "\n",
        "data.take(2)"
      ],
      "execution_count": null,
      "outputs": [
        {
          "output_type": "execute_result",
          "data": {
            "text/plain": [
              "[['',\n",
              "  'loan_amnt',\n",
              "  'funded_amnt',\n",
              "  'funded_amnt_inv',\n",
              "  'term',\n",
              "  'int_rate',\n",
              "  'installment',\n",
              "  'grade',\n",
              "  'emp_length',\n",
              "  'home_ownership',\n",
              "  'annual_inc',\n",
              "  'verification_status',\n",
              "  'issue_d',\n",
              "  'loan_status',\n",
              "  'dti',\n",
              "  'open_acc',\n",
              "  'total_acc',\n",
              "  'application_type',\n",
              "  'pub_rec_bankruptcies',\n",
              "  'tax_liens',\n",
              "  'addr_state'],\n",
              " ['0',\n",
              "  '10000.0',\n",
              "  '10000.0',\n",
              "  '10000.0',\n",
              "  ' 36 months',\n",
              "  '  6.99%',\n",
              "  '308.73',\n",
              "  'A',\n",
              "  '1',\n",
              "  '1',\n",
              "  '135000.0',\n",
              "  '0',\n",
              "  'Jun-16',\n",
              "  'Low Default',\n",
              "  '7.61',\n",
              "  '7.0',\n",
              "  '13.0',\n",
              "  'Individual',\n",
              "  '0.0',\n",
              "  '0.0',\n",
              "  'NY']]"
            ]
          },
          "metadata": {
            "tags": []
          },
          "execution_count": 4
        }
      ]
    },
    {
      "cell_type": "code",
      "metadata": {
        "colab": {
          "base_uri": "https://localhost:8080/"
        },
        "id": "DO1qENM5TQDz",
        "outputId": "99965c26-b2bf-4ac0-bfbe-8273b8de08b0"
      },
      "source": [
        "df_features=data.toDF(['id','loan_amnt','funded_amnt','funded_amnt_inv','term','int_rate','installment','grade','emp_length','home_ownership','annual_inc','verification_status','issue_d','loan_status','dti','open_acc','total_acc','application_type','pub_rec_bankruptcies','tax_liens','addr_state'])\n",
        "df_features.show()"
      ],
      "execution_count": null,
      "outputs": [
        {
          "output_type": "stream",
          "text": [
            "+---+---------+-----------+---------------+----------+--------+-----------+-----+----------+--------------+----------+-------------------+-------+-----------+-----+--------+---------+----------------+--------------------+---------+----------+\n",
            "| id|loan_amnt|funded_amnt|funded_amnt_inv|      term|int_rate|installment|grade|emp_length|home_ownership|annual_inc|verification_status|issue_d|loan_status|  dti|open_acc|total_acc|application_type|pub_rec_bankruptcies|tax_liens|addr_state|\n",
            "+---+---------+-----------+---------------+----------+--------+-----------+-----+----------+--------------+----------+-------------------+-------+-----------+-----+--------+---------+----------------+--------------------+---------+----------+\n",
            "|   |loan_amnt|funded_amnt|funded_amnt_inv|      term|int_rate|installment|grade|emp_length|home_ownership|annual_inc|verification_status|issue_d|loan_status|  dti|open_acc|total_acc|application_type|pub_rec_bankruptcies|tax_liens|addr_state|\n",
            "|  0|  10000.0|    10000.0|        10000.0| 36 months|   6.99%|     308.73|    A|         1|             1|  135000.0|                  0| Jun-16|Low Default| 7.61|     7.0|     13.0|      Individual|                 0.0|      0.0|        NY|\n",
            "|  1|   9600.0|     9600.0|         9600.0| 36 months|  15.59%|     335.57|    C|         2|             1|   50000.0|                  0| Jun-16|Low Default|24.03|    11.0|     23.0|      Individual|                 4.0|      0.0|        OH|\n",
            "|  2|   3600.0|     3600.0|         3600.0| 36 months|  13.99%|     123.03|    C|         3|             0|   35000.0|                  0| Jun-16|Low Default|25.38|    13.0|     29.0|      Individual|                 0.0|      0.0|        MO|\n",
            "|  3|  10000.0|    10000.0|        10000.0| 60 months|  13.49%|     230.05|    C|         1|             1|   32000.0|                  1| Jun-16|Low Default|13.05|     5.0|     10.0|      Individual|                 0.0|      0.0|        OH|\n",
            "|  4|   4900.0|     4900.0|         4900.0| 36 months|  10.99%|      160.4|    B|         0|             0|  120000.0|                  0| Jun-16|Low Default| 6.07|     5.0|      8.0|      Individual|                 0.0|      0.0|        TX|\n",
            "|  5|   9000.0|     9000.0|         9000.0| 36 months|  13.99%|     307.56|    C|         3|             0|  125000.0|                  1| Jun-16|    Default|30.21|    13.0|     32.0|      Individual|                 0.0|      0.0|        OH|\n",
            "|  6|   9000.0|     9000.0|         9000.0| 36 months|  10.49%|     292.48|    B|         2|             1|   52500.0|                  0| Jun-16|Low Default|14.38|     4.0|      6.0|      Individual|                 0.0|      0.0|        NJ|\n",
            "|  7|  18000.0|    18000.0|        18000.0| 60 months|  13.49%|     414.09|    C|         3|             0|   70000.0|                  1| Jun-16|    Default|25.51|     6.0|     12.0|      Individual|                 0.0|      0.0|        VA|\n",
            "|  8|   9800.0|     9800.0|         9800.0| 36 months|  14.49%|     337.28|    C|         3|             0|   48000.0|                  0| Jun-16|    Default|19.83|    10.0|     16.0|      Individual|                 0.0|      1.0|        OH|\n",
            "|  9|   3000.0|     3000.0|         3000.0| 36 months|  15.59%|     104.87|    C|         3|             1|   42000.0|                  0| Jun-16|Low Default| 8.34|     5.0|     16.0|      Individual|                 1.0|      0.0|        CA|\n",
            "| 10|   7500.0|     7500.0|         7500.0| 36 months|  10.99%|     245.51|    B|         1|             1|   50000.0|                  0| Jun-16|Low Default| 22.2|    22.0|     63.0|      Individual|                 1.0|      1.0|        CA|\n",
            "| 11|   2000.0|     2000.0|         2000.0| 36 months|  16.99%|       71.3|    D|         0|            2 |  153000.0|                  0| Jun-16|Low Default| 2.06|     6.0|     35.0|      Individual|                 0.0|      0.0|        WA|\n",
            "| 12|   5000.0|     5000.0|         5000.0| 36 months|  22.39%|     191.97|    E|         2|             1|   54000.0|                  0| Jun-16|    Default| 24.5|    10.0|     16.0|      Individual|                 0.0|      0.0|        NC|\n",
            "| 13|   5000.0|     5000.0|         5000.0| 36 months|  15.59%|     174.78|    C|         3|             1|   59000.0|                  0| Jun-16|Low Default| 3.82|    14.0|     22.0|      Individual|                 2.0|      0.0|        IL|\n",
            "| 14|   5000.0|     5000.0|         5000.0| 36 months|  16.99%|     178.24|    D|         3|             0|   98000.0|                  1| Jun-16|Low Default| 13.9|     7.0|     11.0|      Individual|                 0.0|      0.0|        CA|\n",
            "| 15|  19775.0|    19775.0|        19775.0| 60 months|  16.99%|     491.36|    D|         1|             1|   43000.0|                  1| Jun-16|Low Default|13.27|     5.0|      7.0|      Individual|                 0.0|      0.0|        FL|\n",
            "| 16|  20000.0|    20000.0|        20000.0| 60 months|  15.59%|     482.02|    C|         1|             1|   98000.0|                  0| Jun-16|  WatchList| 9.01|    13.0|     26.0|      Individual|                 0.0|      0.0|        TX|\n",
            "| 17|  10000.0|    10000.0|        10000.0| 36 months|  17.99%|     361.48|    D|         0|             1|   41556.0|                  0| Jun-16|Low Default|32.57|    14.0|     35.0|      Individual|                 1.0|      0.0|        NM|\n",
            "| 18|  21000.0|    21000.0|        21000.0| 36 months|  16.29%|     741.31|    D|         2|             0|  120000.0|                  0| Jun-16|Low Default|17.26|    26.0|     45.0|      Individual|                 0.0|      0.0|        OH|\n",
            "+---+---------+-----------+---------------+----------+--------+-----------+-----+----------+--------------+----------+-------------------+-------+-----------+-----+--------+---------+----------------+--------------------+---------+----------+\n",
            "only showing top 20 rows\n",
            "\n"
          ],
          "name": "stdout"
        }
      ]
    },
    {
      "cell_type": "code",
      "metadata": {
        "colab": {
          "base_uri": "https://localhost:8080/"
        },
        "id": "7NqeP3KRTqFu",
        "outputId": "d0bfc46a-3cb3-45ab-9c58-3593bf720b03"
      },
      "source": [
        "df_feat=df_features.select(*(df_features[c].cast(\"float\").alias(c) for c in df_features.columns[1:]))\n",
        "df_feat.show()"
      ],
      "execution_count": null,
      "outputs": [
        {
          "output_type": "stream",
          "text": [
            "+---------+-----------+---------------+----+--------+-----------+-----+----------+--------------+----------+-------------------+-------+-----------+-----+--------+---------+----------------+--------------------+---------+----------+\n",
            "|loan_amnt|funded_amnt|funded_amnt_inv|term|int_rate|installment|grade|emp_length|home_ownership|annual_inc|verification_status|issue_d|loan_status|  dti|open_acc|total_acc|application_type|pub_rec_bankruptcies|tax_liens|addr_state|\n",
            "+---------+-----------+---------------+----+--------+-----------+-----+----------+--------------+----------+-------------------+-------+-----------+-----+--------+---------+----------------+--------------------+---------+----------+\n",
            "|     null|       null|           null|null|    null|       null| null|      null|          null|      null|               null|   null|       null| null|    null|     null|            null|                null|     null|      null|\n",
            "|  10000.0|    10000.0|        10000.0|null|    null|     308.73| null|       1.0|           1.0|  135000.0|                0.0|   null|       null| 7.61|     7.0|     13.0|            null|                 0.0|      0.0|      null|\n",
            "|   9600.0|     9600.0|         9600.0|null|    null|     335.57| null|       2.0|           1.0|   50000.0|                0.0|   null|       null|24.03|    11.0|     23.0|            null|                 4.0|      0.0|      null|\n",
            "|   3600.0|     3600.0|         3600.0|null|    null|     123.03| null|       3.0|           0.0|   35000.0|                0.0|   null|       null|25.38|    13.0|     29.0|            null|                 0.0|      0.0|      null|\n",
            "|  10000.0|    10000.0|        10000.0|null|    null|     230.05| null|       1.0|           1.0|   32000.0|                1.0|   null|       null|13.05|     5.0|     10.0|            null|                 0.0|      0.0|      null|\n",
            "|   4900.0|     4900.0|         4900.0|null|    null|      160.4| null|       0.0|           0.0|  120000.0|                0.0|   null|       null| 6.07|     5.0|      8.0|            null|                 0.0|      0.0|      null|\n",
            "|   9000.0|     9000.0|         9000.0|null|    null|     307.56| null|       3.0|           0.0|  125000.0|                1.0|   null|       null|30.21|    13.0|     32.0|            null|                 0.0|      0.0|      null|\n",
            "|   9000.0|     9000.0|         9000.0|null|    null|     292.48| null|       2.0|           1.0|   52500.0|                0.0|   null|       null|14.38|     4.0|      6.0|            null|                 0.0|      0.0|      null|\n",
            "|  18000.0|    18000.0|        18000.0|null|    null|     414.09| null|       3.0|           0.0|   70000.0|                1.0|   null|       null|25.51|     6.0|     12.0|            null|                 0.0|      0.0|      null|\n",
            "|   9800.0|     9800.0|         9800.0|null|    null|     337.28| null|       3.0|           0.0|   48000.0|                0.0|   null|       null|19.83|    10.0|     16.0|            null|                 0.0|      1.0|      null|\n",
            "|   3000.0|     3000.0|         3000.0|null|    null|     104.87| null|       3.0|           1.0|   42000.0|                0.0|   null|       null| 8.34|     5.0|     16.0|            null|                 1.0|      0.0|      null|\n",
            "|   7500.0|     7500.0|         7500.0|null|    null|     245.51| null|       1.0|           1.0|   50000.0|                0.0|   null|       null| 22.2|    22.0|     63.0|            null|                 1.0|      1.0|      null|\n",
            "|   2000.0|     2000.0|         2000.0|null|    null|       71.3| null|       0.0|           2.0|  153000.0|                0.0|   null|       null| 2.06|     6.0|     35.0|            null|                 0.0|      0.0|      null|\n",
            "|   5000.0|     5000.0|         5000.0|null|    null|     191.97| null|       2.0|           1.0|   54000.0|                0.0|   null|       null| 24.5|    10.0|     16.0|            null|                 0.0|      0.0|      null|\n",
            "|   5000.0|     5000.0|         5000.0|null|    null|     174.78| null|       3.0|           1.0|   59000.0|                0.0|   null|       null| 3.82|    14.0|     22.0|            null|                 2.0|      0.0|      null|\n",
            "|   5000.0|     5000.0|         5000.0|null|    null|     178.24| null|       3.0|           0.0|   98000.0|                1.0|   null|       null| 13.9|     7.0|     11.0|            null|                 0.0|      0.0|      null|\n",
            "|  19775.0|    19775.0|        19775.0|null|    null|     491.36| null|       1.0|           1.0|   43000.0|                1.0|   null|       null|13.27|     5.0|      7.0|            null|                 0.0|      0.0|      null|\n",
            "|  20000.0|    20000.0|        20000.0|null|    null|     482.02| null|       1.0|           1.0|   98000.0|                0.0|   null|       null| 9.01|    13.0|     26.0|            null|                 0.0|      0.0|      null|\n",
            "|  10000.0|    10000.0|        10000.0|null|    null|     361.48| null|       0.0|           1.0|   41556.0|                0.0|   null|       null|32.57|    14.0|     35.0|            null|                 1.0|      0.0|      null|\n",
            "|  21000.0|    21000.0|        21000.0|null|    null|     741.31| null|       2.0|           0.0|  120000.0|                0.0|   null|       null|17.26|    26.0|     45.0|            null|                 0.0|      0.0|      null|\n",
            "+---------+-----------+---------------+----+--------+-----------+-----+----------+--------------+----------+-------------------+-------+-----------+-----+--------+---------+----------------+--------------------+---------+----------+\n",
            "only showing top 20 rows\n",
            "\n"
          ],
          "name": "stdout"
        }
      ]
    },
    {
      "cell_type": "code",
      "metadata": {
        "id": "OtAvkKMKzJyr",
        "colab": {
          "base_uri": "https://localhost:8080/"
        },
        "outputId": "1251f72a-129a-42b8-cc93-e4794ed874a4"
      },
      "source": [
        "features=['annual_inc','dti']\n",
        "\n",
        "for col in df_features.columns:\n",
        "    if col in features:\n",
        "        df_features=df_features.withColumn(col,df_features[col].cast('float'))\n",
        "\n",
        "df_features.show()"
      ],
      "execution_count": null,
      "outputs": [
        {
          "output_type": "stream",
          "text": [
            "+---+---------+-----------+---------------+----------+--------+-----------+-----+----------+--------------+----------+-------------------+-------+-----------+-----+--------+---------+----------------+--------------------+---------+----------+\n",
            "| id|loan_amnt|funded_amnt|funded_amnt_inv|      term|int_rate|installment|grade|emp_length|home_ownership|annual_inc|verification_status|issue_d|loan_status|  dti|open_acc|total_acc|application_type|pub_rec_bankruptcies|tax_liens|addr_state|\n",
            "+---+---------+-----------+---------------+----------+--------+-----------+-----+----------+--------------+----------+-------------------+-------+-----------+-----+--------+---------+----------------+--------------------+---------+----------+\n",
            "|   |loan_amnt|funded_amnt|funded_amnt_inv|      term|int_rate|installment|grade|emp_length|home_ownership|      null|verification_status|issue_d|loan_status| null|open_acc|total_acc|application_type|pub_rec_bankruptcies|tax_liens|addr_state|\n",
            "|  0|  10000.0|    10000.0|        10000.0| 36 months|   6.99%|     308.73|    A|         1|             1|  135000.0|                  0| Jun-16|Low Default| 7.61|     7.0|     13.0|      Individual|                 0.0|      0.0|        NY|\n",
            "|  1|   9600.0|     9600.0|         9600.0| 36 months|  15.59%|     335.57|    C|         2|             1|   50000.0|                  0| Jun-16|Low Default|24.03|    11.0|     23.0|      Individual|                 4.0|      0.0|        OH|\n",
            "|  2|   3600.0|     3600.0|         3600.0| 36 months|  13.99%|     123.03|    C|         3|             0|   35000.0|                  0| Jun-16|Low Default|25.38|    13.0|     29.0|      Individual|                 0.0|      0.0|        MO|\n",
            "|  3|  10000.0|    10000.0|        10000.0| 60 months|  13.49%|     230.05|    C|         1|             1|   32000.0|                  1| Jun-16|Low Default|13.05|     5.0|     10.0|      Individual|                 0.0|      0.0|        OH|\n",
            "|  4|   4900.0|     4900.0|         4900.0| 36 months|  10.99%|      160.4|    B|         0|             0|  120000.0|                  0| Jun-16|Low Default| 6.07|     5.0|      8.0|      Individual|                 0.0|      0.0|        TX|\n",
            "|  5|   9000.0|     9000.0|         9000.0| 36 months|  13.99%|     307.56|    C|         3|             0|  125000.0|                  1| Jun-16|    Default|30.21|    13.0|     32.0|      Individual|                 0.0|      0.0|        OH|\n",
            "|  6|   9000.0|     9000.0|         9000.0| 36 months|  10.49%|     292.48|    B|         2|             1|   52500.0|                  0| Jun-16|Low Default|14.38|     4.0|      6.0|      Individual|                 0.0|      0.0|        NJ|\n",
            "|  7|  18000.0|    18000.0|        18000.0| 60 months|  13.49%|     414.09|    C|         3|             0|   70000.0|                  1| Jun-16|    Default|25.51|     6.0|     12.0|      Individual|                 0.0|      0.0|        VA|\n",
            "|  8|   9800.0|     9800.0|         9800.0| 36 months|  14.49%|     337.28|    C|         3|             0|   48000.0|                  0| Jun-16|    Default|19.83|    10.0|     16.0|      Individual|                 0.0|      1.0|        OH|\n",
            "|  9|   3000.0|     3000.0|         3000.0| 36 months|  15.59%|     104.87|    C|         3|             1|   42000.0|                  0| Jun-16|Low Default| 8.34|     5.0|     16.0|      Individual|                 1.0|      0.0|        CA|\n",
            "| 10|   7500.0|     7500.0|         7500.0| 36 months|  10.99%|     245.51|    B|         1|             1|   50000.0|                  0| Jun-16|Low Default| 22.2|    22.0|     63.0|      Individual|                 1.0|      1.0|        CA|\n",
            "| 11|   2000.0|     2000.0|         2000.0| 36 months|  16.99%|       71.3|    D|         0|            2 |  153000.0|                  0| Jun-16|Low Default| 2.06|     6.0|     35.0|      Individual|                 0.0|      0.0|        WA|\n",
            "| 12|   5000.0|     5000.0|         5000.0| 36 months|  22.39%|     191.97|    E|         2|             1|   54000.0|                  0| Jun-16|    Default| 24.5|    10.0|     16.0|      Individual|                 0.0|      0.0|        NC|\n",
            "| 13|   5000.0|     5000.0|         5000.0| 36 months|  15.59%|     174.78|    C|         3|             1|   59000.0|                  0| Jun-16|Low Default| 3.82|    14.0|     22.0|      Individual|                 2.0|      0.0|        IL|\n",
            "| 14|   5000.0|     5000.0|         5000.0| 36 months|  16.99%|     178.24|    D|         3|             0|   98000.0|                  1| Jun-16|Low Default| 13.9|     7.0|     11.0|      Individual|                 0.0|      0.0|        CA|\n",
            "| 15|  19775.0|    19775.0|        19775.0| 60 months|  16.99%|     491.36|    D|         1|             1|   43000.0|                  1| Jun-16|Low Default|13.27|     5.0|      7.0|      Individual|                 0.0|      0.0|        FL|\n",
            "| 16|  20000.0|    20000.0|        20000.0| 60 months|  15.59%|     482.02|    C|         1|             1|   98000.0|                  0| Jun-16|  WatchList| 9.01|    13.0|     26.0|      Individual|                 0.0|      0.0|        TX|\n",
            "| 17|  10000.0|    10000.0|        10000.0| 36 months|  17.99%|     361.48|    D|         0|             1|   41556.0|                  0| Jun-16|Low Default|32.57|    14.0|     35.0|      Individual|                 1.0|      0.0|        NM|\n",
            "| 18|  21000.0|    21000.0|        21000.0| 36 months|  16.29%|     741.31|    D|         2|             0|  120000.0|                  0| Jun-16|Low Default|17.26|    26.0|     45.0|      Individual|                 0.0|      0.0|        OH|\n",
            "+---+---------+-----------+---------------+----------+--------+-----------+-----+----------+--------------+----------+-------------------+-------+-----------+-----+--------+---------+----------------+--------------------+---------+----------+\n",
            "only showing top 20 rows\n",
            "\n"
          ],
          "name": "stdout"
        }
      ]
    },
    {
      "cell_type": "code",
      "metadata": {
        "colab": {
          "base_uri": "https://localhost:8080/"
        },
        "id": "eJaaLfU9WQcq",
        "outputId": "753bd810-7e2f-4362-f090-4b280cf04886"
      },
      "source": [
        "df_features=df_features.na.drop()\n",
        "df_features.show()"
      ],
      "execution_count": null,
      "outputs": [
        {
          "output_type": "stream",
          "text": [
            "+---+---------+-----------+---------------+----------+--------+-----------+-----+----------+--------------+----------+-------------------+-------+-----------+-----+--------+---------+----------------+--------------------+---------+----------+\n",
            "| id|loan_amnt|funded_amnt|funded_amnt_inv|      term|int_rate|installment|grade|emp_length|home_ownership|annual_inc|verification_status|issue_d|loan_status|  dti|open_acc|total_acc|application_type|pub_rec_bankruptcies|tax_liens|addr_state|\n",
            "+---+---------+-----------+---------------+----------+--------+-----------+-----+----------+--------------+----------+-------------------+-------+-----------+-----+--------+---------+----------------+--------------------+---------+----------+\n",
            "|  0|  10000.0|    10000.0|        10000.0| 36 months|   6.99%|     308.73|    A|         1|             1|  135000.0|                  0| Jun-16|Low Default| 7.61|     7.0|     13.0|      Individual|                 0.0|      0.0|        NY|\n",
            "|  1|   9600.0|     9600.0|         9600.0| 36 months|  15.59%|     335.57|    C|         2|             1|   50000.0|                  0| Jun-16|Low Default|24.03|    11.0|     23.0|      Individual|                 4.0|      0.0|        OH|\n",
            "|  2|   3600.0|     3600.0|         3600.0| 36 months|  13.99%|     123.03|    C|         3|             0|   35000.0|                  0| Jun-16|Low Default|25.38|    13.0|     29.0|      Individual|                 0.0|      0.0|        MO|\n",
            "|  3|  10000.0|    10000.0|        10000.0| 60 months|  13.49%|     230.05|    C|         1|             1|   32000.0|                  1| Jun-16|Low Default|13.05|     5.0|     10.0|      Individual|                 0.0|      0.0|        OH|\n",
            "|  4|   4900.0|     4900.0|         4900.0| 36 months|  10.99%|      160.4|    B|         0|             0|  120000.0|                  0| Jun-16|Low Default| 6.07|     5.0|      8.0|      Individual|                 0.0|      0.0|        TX|\n",
            "|  5|   9000.0|     9000.0|         9000.0| 36 months|  13.99%|     307.56|    C|         3|             0|  125000.0|                  1| Jun-16|    Default|30.21|    13.0|     32.0|      Individual|                 0.0|      0.0|        OH|\n",
            "|  6|   9000.0|     9000.0|         9000.0| 36 months|  10.49%|     292.48|    B|         2|             1|   52500.0|                  0| Jun-16|Low Default|14.38|     4.0|      6.0|      Individual|                 0.0|      0.0|        NJ|\n",
            "|  7|  18000.0|    18000.0|        18000.0| 60 months|  13.49%|     414.09|    C|         3|             0|   70000.0|                  1| Jun-16|    Default|25.51|     6.0|     12.0|      Individual|                 0.0|      0.0|        VA|\n",
            "|  8|   9800.0|     9800.0|         9800.0| 36 months|  14.49%|     337.28|    C|         3|             0|   48000.0|                  0| Jun-16|    Default|19.83|    10.0|     16.0|      Individual|                 0.0|      1.0|        OH|\n",
            "|  9|   3000.0|     3000.0|         3000.0| 36 months|  15.59%|     104.87|    C|         3|             1|   42000.0|                  0| Jun-16|Low Default| 8.34|     5.0|     16.0|      Individual|                 1.0|      0.0|        CA|\n",
            "| 10|   7500.0|     7500.0|         7500.0| 36 months|  10.99%|     245.51|    B|         1|             1|   50000.0|                  0| Jun-16|Low Default| 22.2|    22.0|     63.0|      Individual|                 1.0|      1.0|        CA|\n",
            "| 11|   2000.0|     2000.0|         2000.0| 36 months|  16.99%|       71.3|    D|         0|            2 |  153000.0|                  0| Jun-16|Low Default| 2.06|     6.0|     35.0|      Individual|                 0.0|      0.0|        WA|\n",
            "| 12|   5000.0|     5000.0|         5000.0| 36 months|  22.39%|     191.97|    E|         2|             1|   54000.0|                  0| Jun-16|    Default| 24.5|    10.0|     16.0|      Individual|                 0.0|      0.0|        NC|\n",
            "| 13|   5000.0|     5000.0|         5000.0| 36 months|  15.59%|     174.78|    C|         3|             1|   59000.0|                  0| Jun-16|Low Default| 3.82|    14.0|     22.0|      Individual|                 2.0|      0.0|        IL|\n",
            "| 14|   5000.0|     5000.0|         5000.0| 36 months|  16.99%|     178.24|    D|         3|             0|   98000.0|                  1| Jun-16|Low Default| 13.9|     7.0|     11.0|      Individual|                 0.0|      0.0|        CA|\n",
            "| 15|  19775.0|    19775.0|        19775.0| 60 months|  16.99%|     491.36|    D|         1|             1|   43000.0|                  1| Jun-16|Low Default|13.27|     5.0|      7.0|      Individual|                 0.0|      0.0|        FL|\n",
            "| 16|  20000.0|    20000.0|        20000.0| 60 months|  15.59%|     482.02|    C|         1|             1|   98000.0|                  0| Jun-16|  WatchList| 9.01|    13.0|     26.0|      Individual|                 0.0|      0.0|        TX|\n",
            "| 17|  10000.0|    10000.0|        10000.0| 36 months|  17.99%|     361.48|    D|         0|             1|   41556.0|                  0| Jun-16|Low Default|32.57|    14.0|     35.0|      Individual|                 1.0|      0.0|        NM|\n",
            "| 18|  21000.0|    21000.0|        21000.0| 36 months|  16.29%|     741.31|    D|         2|             0|  120000.0|                  0| Jun-16|Low Default|17.26|    26.0|     45.0|      Individual|                 0.0|      0.0|        OH|\n",
            "| 19|  32000.0|    32000.0|        32000.0| 36 months|  13.99%|    1093.53|    C|         3|             0|  110000.0|                  0| Jun-16|Low Default| 17.3|     9.0|     15.0|      Individual|                 0.0|      0.0|        MA|\n",
            "+---+---------+-----------+---------------+----------+--------+-----------+-----+----------+--------------+----------+-------------------+-------+-----------+-----+--------+---------+----------------+--------------------+---------+----------+\n",
            "only showing top 20 rows\n",
            "\n"
          ],
          "name": "stdout"
        }
      ]
    },
    {
      "cell_type": "code",
      "metadata": {
        "id": "tNNf930AXkTO"
      },
      "source": [
        "from pyspark.ml.feature import VectorAssembler\n"
      ],
      "execution_count": null,
      "outputs": []
    },
    {
      "cell_type": "code",
      "metadata": {
        "colab": {
          "base_uri": "https://localhost:8080/"
        },
        "id": "ax5JITHhXl3J",
        "outputId": "572201af-230c-42ac-f99e-ca0d143d08b4"
      },
      "source": [
        "vecAssembler=VectorAssembler(inputCols=features, outputCol=\"features\")\n",
        "\n",
        "df_kmeans=vecAssembler.transform(df_features).select('id','features')\n",
        "\n",
        "df_kmeans.show()"
      ],
      "execution_count": null,
      "outputs": [
        {
          "output_type": "stream",
          "text": [
            "+---+--------------------+\n",
            "| id|            features|\n",
            "+---+--------------------+\n",
            "|  0|[135000.0,7.61000...|\n",
            "|  1|[50000.0,24.03000...|\n",
            "|  2|[35000.0,25.37999...|\n",
            "|  3|[32000.0,13.05000...|\n",
            "|  4|[120000.0,6.07000...|\n",
            "|  5|[125000.0,30.2099...|\n",
            "|  6|[52500.0,14.38000...|\n",
            "|  7|[70000.0,25.51000...|\n",
            "|  8|[48000.0,19.82999...|\n",
            "|  9|[42000.0,8.340000...|\n",
            "| 10|[50000.0,22.20000...|\n",
            "| 11|[153000.0,2.05999...|\n",
            "| 12|      [54000.0,24.5]|\n",
            "| 13|[59000.0,3.819999...|\n",
            "| 14|[98000.0,13.89999...|\n",
            "| 15|[43000.0,13.27000...|\n",
            "| 16|[98000.0,9.010000...|\n",
            "| 17|[41556.0,32.56999...|\n",
            "| 18|[120000.0,17.2600...|\n",
            "| 19|[110000.0,17.2999...|\n",
            "+---+--------------------+\n",
            "only showing top 20 rows\n",
            "\n"
          ],
          "name": "stdout"
        }
      ]
    },
    {
      "cell_type": "code",
      "metadata": {
        "id": "WjA2R8q6bMVN"
      },
      "source": [
        "k=3\n",
        "kmeans=KMeans().setK(3).setSeed(4)\n",
        "\n",
        "model=kmeans.fit(df_kmeans.select('features'))"
      ],
      "execution_count": null,
      "outputs": []
    },
    {
      "cell_type": "code",
      "metadata": {
        "id": "EXWgARlrfB_a"
      },
      "source": [
        "import pandas as pd"
      ],
      "execution_count": null,
      "outputs": []
    },
    {
      "cell_type": "code",
      "metadata": {
        "id": "ungMN-54e-ya"
      },
      "source": [
        "df_class=pd.read_csv('/content/Loan_df_transformed.csv',sep=',')"
      ],
      "execution_count": null,
      "outputs": []
    },
    {
      "cell_type": "code",
      "metadata": {
        "id": "_HFNwKUtf8xa"
      },
      "source": [
        "c=['annual_inc','dti']"
      ],
      "execution_count": null,
      "outputs": []
    },
    {
      "cell_type": "code",
      "metadata": {
        "id": "E5h-qQ5UfY--"
      },
      "source": [
        "df_class=df_class[c]"
      ],
      "execution_count": null,
      "outputs": []
    },
    {
      "cell_type": "code",
      "metadata": {
        "colab": {
          "base_uri": "https://localhost:8080/"
        },
        "id": "2nDnNUdRgC_7",
        "outputId": "659c1e3b-481f-4c5f-fca4-5cf1a08406e0"
      },
      "source": [
        "df_class.head"
      ],
      "execution_count": null,
      "outputs": [
        {
          "output_type": "execute_result",
          "data": {
            "text/plain": [
              "<bound method NDFrame.head of          annual_inc    dti\n",
              "0          135000.0   7.61\n",
              "1           50000.0  24.03\n",
              "2           35000.0  25.38\n",
              "3           32000.0  13.05\n",
              "4          120000.0   6.07\n",
              "...             ...    ...\n",
              "1731376     78000.0  11.42\n",
              "1731377         NaN    NaN\n",
              "1731378         NaN    NaN\n",
              "1731379         NaN    NaN\n",
              "1731380         NaN    NaN\n",
              "\n",
              "[1731381 rows x 2 columns]>"
            ]
          },
          "metadata": {
            "tags": []
          },
          "execution_count": 25
        }
      ]
    },
    {
      "cell_type": "code",
      "metadata": {
        "colab": {
          "base_uri": "https://localhost:8080/"
        },
        "id": "LqW_0I0cbVVR",
        "outputId": "01fe1e8e-2217-401e-95a6-7ded9d23111d"
      },
      "source": [
        "transformed=model.transform(df_kmeans)\n",
        "transformed.show()"
      ],
      "execution_count": null,
      "outputs": [
        {
          "output_type": "stream",
          "text": [
            "+---+--------------------+----------+\n",
            "| id|            features|prediction|\n",
            "+---+--------------------+----------+\n",
            "|  0|[135000.0,7.61000...|         0|\n",
            "|  1|[50000.0,24.03000...|         0|\n",
            "|  2|[35000.0,25.37999...|         0|\n",
            "|  3|[32000.0,13.05000...|         0|\n",
            "|  4|[120000.0,6.07000...|         0|\n",
            "|  5|[125000.0,30.2099...|         0|\n",
            "|  6|[52500.0,14.38000...|         0|\n",
            "|  7|[70000.0,25.51000...|         0|\n",
            "|  8|[48000.0,19.82999...|         0|\n",
            "|  9|[42000.0,8.340000...|         0|\n",
            "| 10|[50000.0,22.20000...|         0|\n",
            "| 11|[153000.0,2.05999...|         2|\n",
            "| 12|      [54000.0,24.5]|         0|\n",
            "| 13|[59000.0,3.819999...|         0|\n",
            "| 14|[98000.0,13.89999...|         0|\n",
            "| 15|[43000.0,13.27000...|         0|\n",
            "| 16|[98000.0,9.010000...|         0|\n",
            "| 17|[41556.0,32.56999...|         0|\n",
            "| 18|[120000.0,17.2600...|         0|\n",
            "| 19|[110000.0,17.2999...|         0|\n",
            "+---+--------------------+----------+\n",
            "only showing top 20 rows\n",
            "\n"
          ],
          "name": "stdout"
        }
      ]
    },
    {
      "cell_type": "code",
      "metadata": {
        "id": "7FO7NGSlbWOO"
      },
      "source": [
        "pred=transformed.join(df_class,'id')\n",
        "\n",
        "pred.show()"
      ],
      "execution_count": null,
      "outputs": []
    },
    {
      "cell_type": "code",
      "metadata": {
        "id": "W5G6pdKQbceI"
      },
      "source": [
        "df_pred=pred.toPandas().set_index('id')\n",
        "\n",
        "col_pred=['prediction','annual_inc','dti']\n",
        "\n",
        "df_pred=df_pred[col_pred]\n",
        "df_pred.head()"
      ],
      "execution_count": null,
      "outputs": []
    },
    {
      "cell_type": "code",
      "metadata": {
        "id": "aeEwi3LIblIh"
      },
      "source": [
        "plotxy=plt.figure(figsize=(12,10))\n",
        "plotxy.scatter(df_pred.annual_inc, df_pred.dti, c=df_pred.prediction)\n",
        "plotxy.set_xlabel('annual_inc')\n",
        "plotxy.set_ylabel('dti')\n",
        "plt.show()"
      ],
      "execution_count": null,
      "outputs": []
    },
    {
      "cell_type": "code",
      "metadata": {
        "colab": {
          "base_uri": "https://localhost:8080/"
        },
        "id": "3eTvOOXTUQKr",
        "outputId": "27a5a6f2-7ba3-4afa-df25-1b2a0678bfa6"
      },
      "source": [
        "!pip install --upgrade pixiedust"
      ],
      "execution_count": null,
      "outputs": [
        {
          "output_type": "stream",
          "text": [
            "Requirement already up-to-date: pixiedust in /usr/local/lib/python3.6/dist-packages (1.1.18)\n",
            "Requirement already satisfied, skipping upgrade: requests in /usr/local/lib/python3.6/dist-packages (from pixiedust) (2.23.0)\n",
            "Requirement already satisfied, skipping upgrade: astunparse in /usr/local/lib/python3.6/dist-packages (from pixiedust) (1.6.3)\n",
            "Requirement already satisfied, skipping upgrade: geojson in /usr/local/lib/python3.6/dist-packages (from pixiedust) (2.5.0)\n",
            "Requirement already satisfied, skipping upgrade: markdown in /usr/local/lib/python3.6/dist-packages (from pixiedust) (3.3.3)\n",
            "Requirement already satisfied, skipping upgrade: mpld3 in /usr/local/lib/python3.6/dist-packages (from pixiedust) (0.5.1)\n",
            "Requirement already satisfied, skipping upgrade: lxml in /usr/local/lib/python3.6/dist-packages (from pixiedust) (4.2.6)\n",
            "Requirement already satisfied, skipping upgrade: colour in /usr/local/lib/python3.6/dist-packages (from pixiedust) (0.1.5)\n",
            "Requirement already satisfied, skipping upgrade: chardet<4,>=3.0.2 in /usr/local/lib/python3.6/dist-packages (from requests->pixiedust) (3.0.4)\n",
            "Requirement already satisfied, skipping upgrade: idna<3,>=2.5 in /usr/local/lib/python3.6/dist-packages (from requests->pixiedust) (2.10)\n",
            "Requirement already satisfied, skipping upgrade: certifi>=2017.4.17 in /usr/local/lib/python3.6/dist-packages (from requests->pixiedust) (2020.11.8)\n",
            "Requirement already satisfied, skipping upgrade: urllib3!=1.25.0,!=1.25.1,<1.26,>=1.21.1 in /usr/local/lib/python3.6/dist-packages (from requests->pixiedust) (1.24.3)\n",
            "Requirement already satisfied, skipping upgrade: wheel<1.0,>=0.23.0 in /usr/local/lib/python3.6/dist-packages (from astunparse->pixiedust) (0.35.1)\n",
            "Requirement already satisfied, skipping upgrade: six<2.0,>=1.6.1 in /usr/local/lib/python3.6/dist-packages (from astunparse->pixiedust) (1.15.0)\n",
            "Requirement already satisfied, skipping upgrade: importlib-metadata; python_version < \"3.8\" in /usr/local/lib/python3.6/dist-packages (from markdown->pixiedust) (2.0.0)\n",
            "Requirement already satisfied, skipping upgrade: jinja2 in /usr/local/lib/python3.6/dist-packages (from mpld3->pixiedust) (2.11.2)\n",
            "Requirement already satisfied, skipping upgrade: matplotlib in /usr/local/lib/python3.6/dist-packages (from mpld3->pixiedust) (3.2.2)\n",
            "Requirement already satisfied, skipping upgrade: zipp>=0.5 in /usr/local/lib/python3.6/dist-packages (from importlib-metadata; python_version < \"3.8\"->markdown->pixiedust) (3.4.0)\n",
            "Requirement already satisfied, skipping upgrade: MarkupSafe>=0.23 in /usr/local/lib/python3.6/dist-packages (from jinja2->mpld3->pixiedust) (1.1.1)\n",
            "Requirement already satisfied, skipping upgrade: pyparsing!=2.0.4,!=2.1.2,!=2.1.6,>=2.0.1 in /usr/local/lib/python3.6/dist-packages (from matplotlib->mpld3->pixiedust) (2.4.7)\n",
            "Requirement already satisfied, skipping upgrade: numpy>=1.11 in /usr/local/lib/python3.6/dist-packages (from matplotlib->mpld3->pixiedust) (1.18.5)\n",
            "Requirement already satisfied, skipping upgrade: cycler>=0.10 in /usr/local/lib/python3.6/dist-packages (from matplotlib->mpld3->pixiedust) (0.10.0)\n",
            "Requirement already satisfied, skipping upgrade: python-dateutil>=2.1 in /usr/local/lib/python3.6/dist-packages (from matplotlib->mpld3->pixiedust) (2.8.1)\n",
            "Requirement already satisfied, skipping upgrade: kiwisolver>=1.0.1 in /usr/local/lib/python3.6/dist-packages (from matplotlib->mpld3->pixiedust) (1.3.1)\n"
          ],
          "name": "stdout"
        }
      ]
    },
    {
      "cell_type": "code",
      "metadata": {
        "colab": {
          "base_uri": "https://localhost:8080/"
        },
        "id": "QEIcWeJqeLp1",
        "outputId": "7439cb30-76b0-46c2-af57-909060cb724e"
      },
      "source": [
        "spark_df.printSchema()"
      ],
      "execution_count": null,
      "outputs": [
        {
          "output_type": "stream",
          "text": [
            "root\n",
            " |-- _c0: string (nullable = true)\n",
            " |-- loan_amnt: string (nullable = true)\n",
            " |-- funded_amnt: string (nullable = true)\n",
            " |-- funded_amnt_inv: string (nullable = true)\n",
            " |-- term: string (nullable = true)\n",
            " |-- int_rate: string (nullable = true)\n",
            " |-- installment: string (nullable = true)\n",
            " |-- grade: string (nullable = true)\n",
            " |-- emp_length: string (nullable = true)\n",
            " |-- home_ownership: string (nullable = true)\n",
            " |-- annual_inc: string (nullable = true)\n",
            " |-- verification_status: string (nullable = true)\n",
            " |-- issue_d: string (nullable = true)\n",
            " |-- loan_status: string (nullable = true)\n",
            " |-- dti: string (nullable = true)\n",
            " |-- open_acc: string (nullable = true)\n",
            " |-- total_acc: string (nullable = true)\n",
            " |-- application_type: string (nullable = true)\n",
            " |-- pub_rec_bankruptcies: string (nullable = true)\n",
            " |-- tax_liens: string (nullable = true)\n",
            " |-- addr_state: string (nullable = true)\n",
            "\n"
          ],
          "name": "stdout"
        }
      ]
    },
    {
      "cell_type": "code",
      "metadata": {
        "colab": {
          "base_uri": "https://localhost:8080/"
        },
        "id": "vkcozMcMzq0p",
        "outputId": "3c49c36e-8e08-4c61-c832-b11643ba2661"
      },
      "source": [
        "date_df.printSchema()"
      ],
      "execution_count": null,
      "outputs": [
        {
          "output_type": "stream",
          "text": [
            "root\n",
            " |-- _c0: string (nullable = true)\n",
            " |-- issue_d: string (nullable = true)\n",
            "\n"
          ],
          "name": "stdout"
        }
      ]
    },
    {
      "cell_type": "code",
      "metadata": {
        "colab": {
          "base_uri": "https://localhost:8080/"
        },
        "id": "x6RB49Yjep0X",
        "outputId": "e5642c4e-df5d-459d-b7c2-fd859b8d6b9e"
      },
      "source": [
        "spark_df.groupby('grade').count().sort(F.desc('count')).show()"
      ],
      "execution_count": null,
      "outputs": [
        {
          "output_type": "stream",
          "text": [
            "+-----+------+\n",
            "|grade| count|\n",
            "+-----+------+\n",
            "|    B|513102|\n",
            "|    C|480635|\n",
            "|    A|416920|\n",
            "|    D|240797|\n",
            "|    E| 58756|\n",
            "|    F| 15300|\n",
            "|    G|  5811|\n",
            "| null|    60|\n",
            "+-----+------+\n",
            "\n"
          ],
          "name": "stdout"
        }
      ]
    },
    {
      "cell_type": "code",
      "metadata": {
        "colab": {
          "base_uri": "https://localhost:8080/"
        },
        "id": "AMDc_ZGTr2i6",
        "outputId": "eb5522b5-efc3-4db7-a8f8-8fca6e9de239"
      },
      "source": [
        "spark_df.groupby('loan_status').count().sort(F.desc('count')).show()"
      ],
      "execution_count": null,
      "outputs": [
        {
          "output_type": "stream",
          "text": [
            "+-----------+-------+\n",
            "|loan_status|  count|\n",
            "+-----------+-------+\n",
            "|Low Default|1515391|\n",
            "|    Default| 190026|\n",
            "|  WatchList|  25964|\n",
            "+-----------+-------+\n",
            "\n"
          ],
          "name": "stdout"
        }
      ]
    },
    {
      "cell_type": "code",
      "metadata": {
        "id": "VC0nPIIkAAJx"
      },
      "source": [
        "label_binary=F.udf(lambda x: 0 if x=='Default' else (1 if x=='Low Default' else 2), IntegerType())"
      ],
      "execution_count": null,
      "outputs": []
    },
    {
      "cell_type": "code",
      "metadata": {
        "id": "Ddnj1Hdr8yE8"
      },
      "source": [
        "grade_binary=F.udf(lambda x: 0 if x=='A' else (1 if x=='B' else (2 if x=='C' else 3)), IntegerType())"
      ],
      "execution_count": null,
      "outputs": []
    },
    {
      "cell_type": "code",
      "metadata": {
        "id": "7aD0PxmS-s83"
      },
      "source": [
        "spark_df=spark_df.withColumn('gradeBinary',grade_binary('grade'))"
      ],
      "execution_count": null,
      "outputs": []
    },
    {
      "cell_type": "code",
      "metadata": {
        "colab": {
          "base_uri": "https://localhost:8080/"
        },
        "id": "KyQiT73t_W0L",
        "outputId": "a3c5d920-46c1-4488-af47-be7776ab49c1"
      },
      "source": [
        "spark_df.groupby('gradeBinary').count().sort(F.desc('count')).show()"
      ],
      "execution_count": null,
      "outputs": [
        {
          "output_type": "stream",
          "text": [
            "+-----------+------+\n",
            "|gradeBinary| count|\n",
            "+-----------+------+\n",
            "|          1|513102|\n",
            "|          2|480635|\n",
            "|          0|416920|\n",
            "|          3|320724|\n",
            "+-----------+------+\n",
            "\n"
          ],
          "name": "stdout"
        }
      ]
    },
    {
      "cell_type": "code",
      "metadata": {
        "id": "pSwTWvqsQZ5M"
      },
      "source": [
        "from pyspark.ml.regression import LinearRegression"
      ],
      "execution_count": null,
      "outputs": []
    },
    {
      "cell_type": "code",
      "metadata": {
        "id": "KBqxN0woQk6J"
      },
      "source": [
        "lr=LinearRegression(featuresCol='featuresRisk',labelCol='LabelBinary',maxIter=10,regParam=0.30,elasticNetParam=0.80)"
      ],
      "execution_count": null,
      "outputs": []
    },
    {
      "cell_type": "markdown",
      "metadata": {
        "id": "HSaSAW8jc4Cy"
      },
      "source": [
        "## 1D&E) Practical UseCases & Application\n",
        "3 practically usecases of value can be extracted from the data:\n",
        "\n",
        "1. Customer distribution. (Get a sense geagraphically where to place yourself )\n",
        "2. Understand the risk of your customers (Distribution of risk bands.)\n",
        "4. how much profit is gained from the interest paid.\n",
        "\n",
        "\n",
        "from the data extracted we use haadoop map reduce to extract the value from the data and tableu to visualize."
      ]
    },
    {
      "cell_type": "markdown",
      "metadata": {
        "id": "3wcYjXGDjaQY"
      },
      "source": [
        "## Real World Exam Use Case"
      ]
    },
    {
      "cell_type": "markdown",
      "metadata": {
        "id": "lgqwUQ2_jXH6"
      },
      "source": [
        "The Lending Club is concerned by having a large number of defaults and low customers (thus losing business) during the COVID-19 pandemic. \n",
        "\n",
        "To address this and ensure that the correct decisions are made. We use the data to extract Q1 2018,2019 and 2020 default rate. For the stakeholders to see if there has not been any spike.\n",
        "\n",
        "Secondly we extract the customer trends over the 3 Quaters to identify how well business is doing.\n",
        "\n",
        "To extract the data we use haadoop Map reduce and use tableau to get the necessary visualize for the data."
      ]
    }
  ]
}